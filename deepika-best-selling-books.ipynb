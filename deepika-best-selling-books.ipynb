{
 "cells": [
  {
   "cell_type": "code",
   "execution_count": 1,
   "id": "175eb912",
   "metadata": {
    "_cell_guid": "b1076dfc-b9ad-4769-8c92-a6c4dae69d19",
    "_uuid": "8f2839f25d086af736a60e9eeb907d3b93b6e0e5",
    "execution": {
     "iopub.execute_input": "2022-01-24T19:54:43.170585Z",
     "iopub.status.busy": "2022-01-24T19:54:43.169431Z",
     "iopub.status.idle": "2022-01-24T19:54:46.698650Z",
     "shell.execute_reply": "2022-01-24T19:54:46.697503Z",
     "shell.execute_reply.started": "2022-01-24T19:50:52.436027Z"
    },
    "papermill": {
     "duration": 3.549183,
     "end_time": "2022-01-24T19:54:46.698904",
     "exception": false,
     "start_time": "2022-01-24T19:54:43.149721",
     "status": "completed"
    },
    "tags": []
   },
   "outputs": [
    {
     "name": "stderr",
     "output_type": "stream",
     "text": [
      "/opt/conda/lib/python3.7/site-packages/geopandas/_compat.py:115: UserWarning: The Shapely GEOS version (3.9.1-CAPI-1.14.2) is incompatible with the GEOS version PyGEOS was compiled with (3.10.1-CAPI-1.16.0). Conversions between both will be slow.\n",
      "  shapely_geos_version, geos_capi_version_string\n"
     ]
    },
    {
     "name": "stdout",
     "output_type": "stream",
     "text": [
      "/kaggle/input/amazon-top-50-bestselling-books-2009-2019/bestsellers with categories.csv\n"
     ]
    }
   ],
   "source": [
    "import pandas as pd \n",
    "import matplotlib.pyplot as plt\n",
    "from plotly.subplots import make_subplots\n",
    "import plotly.graph_objects as go\n",
    "import plotly.figure_factory as ff\n",
    "import seaborn as sns\n",
    "\n",
    "import os\n",
    "for dirname, _, filenames in os.walk('/kaggle/input'):\n",
    "    for filename in filenames:\n",
    "        print(os.path.join(dirname, filename))\n",
    "\n",
    "df = pd.read_csv('/kaggle/input/amazon-top-50-bestselling-books-2009-2019/bestsellers with categories.csv')\n"
   ]
  },
  {
   "cell_type": "code",
   "execution_count": 2,
   "id": "ce48699e",
   "metadata": {
    "execution": {
     "iopub.execute_input": "2022-01-24T19:54:46.746687Z",
     "iopub.status.busy": "2022-01-24T19:54:46.737452Z",
     "iopub.status.idle": "2022-01-24T19:54:46.762063Z",
     "shell.execute_reply": "2022-01-24T19:54:46.761492Z",
     "shell.execute_reply.started": "2022-01-24T19:50:52.457657Z"
    },
    "papermill": {
     "duration": 0.045265,
     "end_time": "2022-01-24T19:54:46.762209",
     "exception": false,
     "start_time": "2022-01-24T19:54:46.716944",
     "status": "completed"
    },
    "tags": []
   },
   "outputs": [
    {
     "data": {
      "text/plain": [
       "Name           550\n",
       "Author         550\n",
       "User Rating    550\n",
       "Reviews        550\n",
       "Price          550\n",
       "Year           550\n",
       "Genre          550\n",
       "dtype: int64"
      ]
     },
     "execution_count": 2,
     "metadata": {},
     "output_type": "execute_result"
    }
   ],
   "source": [
    "df.head()\n",
    "\n",
    "df.count()\n",
    "\n",
    "df.dtypes\n",
    "\n",
    "#remove duplicates\n",
    "df.dropna(inplace = True)\n",
    "\n",
    "#check count after dropna\n",
    "df.count()"
   ]
  },
  {
   "cell_type": "code",
   "execution_count": 3,
   "id": "3ef5cbb1",
   "metadata": {
    "execution": {
     "iopub.execute_input": "2022-01-24T19:54:46.804449Z",
     "iopub.status.busy": "2022-01-24T19:54:46.803353Z",
     "iopub.status.idle": "2022-01-24T19:54:46.809884Z",
     "shell.execute_reply": "2022-01-24T19:54:46.809302Z",
     "shell.execute_reply.started": "2022-01-24T19:50:52.476331Z"
    },
    "papermill": {
     "duration": 0.032146,
     "end_time": "2022-01-24T19:54:46.810033",
     "exception": false,
     "start_time": "2022-01-24T19:54:46.777887",
     "status": "completed"
    },
    "tags": []
   },
   "outputs": [
    {
     "data": {
      "text/plain": [
       "[2009, 2010, 2011, 2012, 2013, 2014, 2015, 2016, 2017, 2018, 2019]"
      ]
     },
     "execution_count": 3,
     "metadata": {},
     "output_type": "execute_result"
    }
   ],
   "source": [
    "years = list(df.Year.unique())\n",
    "sorted(years)"
   ]
  },
  {
   "cell_type": "code",
   "execution_count": 4,
   "id": "f366b37a",
   "metadata": {
    "execution": {
     "iopub.execute_input": "2022-01-24T19:54:46.845302Z",
     "iopub.status.busy": "2022-01-24T19:54:46.844278Z",
     "iopub.status.idle": "2022-01-24T19:54:46.855451Z",
     "shell.execute_reply": "2022-01-24T19:54:46.854632Z",
     "shell.execute_reply.started": "2022-01-24T19:50:52.486276Z"
    },
    "papermill": {
     "duration": 0.030008,
     "end_time": "2022-01-24T19:54:46.855676",
     "exception": false,
     "start_time": "2022-01-24T19:54:46.825668",
     "status": "completed"
    },
    "tags": []
   },
   "outputs": [
    {
     "name": "stdout",
     "output_type": "stream",
     "text": [
      "Name - 0.0%\n",
      "Author - 0.0%\n",
      "User Rating - 0.0%\n",
      "Reviews - 0.0%\n",
      "Price - 0.0%\n",
      "Year - 0.0%\n",
      "Genre - 0.0%\n"
     ]
    }
   ],
   "source": [
    "#check for missing values\n",
    "for col in df.columns:\n",
    "    any_missing = df[col].isnull().mean()\n",
    "    print(f'{col} - {any_missing :.1%}')"
   ]
  },
  {
   "cell_type": "code",
   "execution_count": 5,
   "id": "67836fbe",
   "metadata": {
    "execution": {
     "iopub.execute_input": "2022-01-24T19:54:46.894634Z",
     "iopub.status.busy": "2022-01-24T19:54:46.893892Z",
     "iopub.status.idle": "2022-01-24T19:54:46.900260Z",
     "shell.execute_reply": "2022-01-24T19:54:46.900813Z",
     "shell.execute_reply.started": "2022-01-24T19:50:52.504107Z"
    },
    "papermill": {
     "duration": 0.026724,
     "end_time": "2022-01-24T19:54:46.901002",
     "exception": false,
     "start_time": "2022-01-24T19:54:46.874278",
     "status": "completed"
    },
    "tags": []
   },
   "outputs": [
    {
     "data": {
      "text/plain": [
       "248"
      ]
     },
     "execution_count": 5,
     "metadata": {},
     "output_type": "execute_result"
    }
   ],
   "source": [
    "#unique authors\n",
    "authors = df.Author.sort_values().unique()\n",
    "len(authors)"
   ]
  },
  {
   "cell_type": "code",
   "execution_count": 6,
   "id": "58b8c4d0",
   "metadata": {
    "execution": {
     "iopub.execute_input": "2022-01-24T19:54:46.939128Z",
     "iopub.status.busy": "2022-01-24T19:54:46.938433Z",
     "iopub.status.idle": "2022-01-24T19:54:46.944710Z",
     "shell.execute_reply": "2022-01-24T19:54:46.945205Z",
     "shell.execute_reply.started": "2022-01-24T19:50:52.513433Z"
    },
    "papermill": {
     "duration": 0.026961,
     "end_time": "2022-01-24T19:54:46.945390",
     "exception": false,
     "start_time": "2022-01-24T19:54:46.918429",
     "status": "completed"
    },
    "tags": []
   },
   "outputs": [
    {
     "data": {
      "text/plain": [
       "351"
      ]
     },
     "execution_count": 6,
     "metadata": {},
     "output_type": "execute_result"
    }
   ],
   "source": [
    "#unique book names\n",
    "titles = df.Name.sort_values().unique()\n",
    "len(titles)"
   ]
  },
  {
   "cell_type": "code",
   "execution_count": 7,
   "id": "a8aa1ca4",
   "metadata": {
    "execution": {
     "iopub.execute_input": "2022-01-24T19:54:46.982221Z",
     "iopub.status.busy": "2022-01-24T19:54:46.981574Z",
     "iopub.status.idle": "2022-01-24T19:54:47.309786Z",
     "shell.execute_reply": "2022-01-24T19:54:47.309243Z",
     "shell.execute_reply.started": "2022-01-24T19:50:52.529535Z"
    },
    "papermill": {
     "duration": 0.347985,
     "end_time": "2022-01-24T19:54:47.309963",
     "exception": false,
     "start_time": "2022-01-24T19:54:46.961978",
     "status": "completed"
    },
    "tags": []
   },
   "outputs": [
    {
     "name": "stderr",
     "output_type": "stream",
     "text": [
      "/opt/conda/lib/python3.7/site-packages/seaborn/_decorators.py:43: FutureWarning: Pass the following variable as a keyword arg: x. From version 0.12, the only valid positional argument will be `data`, and passing other arguments without an explicit keyword will result in an error or misinterpretation.\n",
      "  FutureWarning\n"
     ]
    },
    {
     "data": {
      "image/png": "[encoded data removed]",
      "text/plain": [
       "<Figure size 432x288 with 1 Axes>"
      ]
     },
     "metadata": {
      "needs_background": "light"
     },
     "output_type": "display_data"
    }
   ],
   "source": [
    "#Count by genre\n",
    "genre_count = df['Genre'].value_counts()\n",
    "\n",
    "genre_count\n",
    "\n",
    "#---------------------\n",
    "#Non Fiction    310\n",
    "#Fiction        240\n",
    "#---------------------\n",
    "\n",
    "#Distribution of Fiction vs Non fiction book over the years\n",
    "sns.countplot(df['Year'],hue=df['Genre'], palette = ['steelblue','tomato'])\n",
    "plt.show()"
   ]
  },
  {
   "cell_type": "code",
   "execution_count": 8,
   "id": "8423a1b1",
   "metadata": {
    "execution": {
     "iopub.execute_input": "2022-01-24T19:54:47.349664Z",
     "iopub.status.busy": "2022-01-24T19:54:47.348965Z",
     "iopub.status.idle": "2022-01-24T19:54:47.372453Z",
     "shell.execute_reply": "2022-01-24T19:54:47.371883Z",
     "shell.execute_reply.started": "2022-01-24T19:50:52.818747Z"
    },
    "papermill": {
     "duration": 0.045322,
     "end_time": "2022-01-24T19:54:47.372641",
     "exception": false,
     "start_time": "2022-01-24T19:54:47.327319",
     "status": "completed"
    },
    "tags": []
   },
   "outputs": [
    {
     "data": {
      "text/html": [
       "<div>\n",
       "<style scoped>\n",
       "    .dataframe tbody tr th:only-of-type {\n",
       "        vertical-align: middle;\n",
       "    }\n",
       "\n",
       "    .dataframe tbody tr th {\n",
       "        vertical-align: top;\n",
       "    }\n",
       "\n",
       "    .dataframe thead th {\n",
       "        text-align: right;\n",
       "    }\n",
       "</style>\n",
       "<table border=\"1\" class=\"dataframe\">\n",
       "  <thead>\n",
       "    <tr style=\"text-align: right;\">\n",
       "      <th></th>\n",
       "      <th>index</th>\n",
       "      <th>Name</th>\n",
       "      <th>Author</th>\n",
       "      <th>User Rating</th>\n",
       "      <th>Reviews</th>\n",
       "      <th>Price</th>\n",
       "      <th>Year</th>\n",
       "      <th>Genre</th>\n",
       "    </tr>\n",
       "  </thead>\n",
       "  <tbody>\n",
       "    <tr>\n",
       "      <th>0</th>\n",
       "      <td>69</td>\n",
       "      <td>Diagnostic and Statistical Manual of Mental Di...</td>\n",
       "      <td>American Psychiatric Association</td>\n",
       "      <td>4.5</td>\n",
       "      <td>6679</td>\n",
       "      <td>105</td>\n",
       "      <td>2013</td>\n",
       "      <td>Non Fiction</td>\n",
       "    </tr>\n",
       "    <tr>\n",
       "      <th>1</th>\n",
       "      <td>70</td>\n",
       "      <td>Diagnostic and Statistical Manual of Mental Di...</td>\n",
       "      <td>American Psychiatric Association</td>\n",
       "      <td>4.5</td>\n",
       "      <td>6679</td>\n",
       "      <td>105</td>\n",
       "      <td>2014</td>\n",
       "      <td>Non Fiction</td>\n",
       "    </tr>\n",
       "    <tr>\n",
       "      <th>2</th>\n",
       "      <td>473</td>\n",
       "      <td>The Twilight Saga Collection</td>\n",
       "      <td>Stephenie Meyer</td>\n",
       "      <td>4.7</td>\n",
       "      <td>3801</td>\n",
       "      <td>82</td>\n",
       "      <td>2009</td>\n",
       "      <td>Fiction</td>\n",
       "    </tr>\n",
       "    <tr>\n",
       "      <th>3</th>\n",
       "      <td>151</td>\n",
       "      <td>Hamilton: The Revolution</td>\n",
       "      <td>Lin-Manuel Miranda</td>\n",
       "      <td>4.9</td>\n",
       "      <td>5867</td>\n",
       "      <td>54</td>\n",
       "      <td>2016</td>\n",
       "      <td>Non Fiction</td>\n",
       "    </tr>\n",
       "    <tr>\n",
       "      <th>4</th>\n",
       "      <td>346</td>\n",
       "      <td>The Book of Basketball: The NBA According to T...</td>\n",
       "      <td>Bill Simmons</td>\n",
       "      <td>4.7</td>\n",
       "      <td>858</td>\n",
       "      <td>53</td>\n",
       "      <td>2009</td>\n",
       "      <td>Non Fiction</td>\n",
       "    </tr>\n",
       "    <tr>\n",
       "      <th>5</th>\n",
       "      <td>159</td>\n",
       "      <td>Harry Potter Paperback Box Set (Books 1-7)</td>\n",
       "      <td>J. K. Rowling</td>\n",
       "      <td>4.8</td>\n",
       "      <td>13471</td>\n",
       "      <td>52</td>\n",
       "      <td>2016</td>\n",
       "      <td>Fiction</td>\n",
       "    </tr>\n",
       "    <tr>\n",
       "      <th>6</th>\n",
       "      <td>273</td>\n",
       "      <td>Publication Manual of the American Psychologic...</td>\n",
       "      <td>American Psychological Association</td>\n",
       "      <td>4.5</td>\n",
       "      <td>8580</td>\n",
       "      <td>46</td>\n",
       "      <td>2011</td>\n",
       "      <td>Non Fiction</td>\n",
       "    </tr>\n",
       "    <tr>\n",
       "      <th>7</th>\n",
       "      <td>271</td>\n",
       "      <td>Publication Manual of the American Psychologic...</td>\n",
       "      <td>American Psychological Association</td>\n",
       "      <td>4.5</td>\n",
       "      <td>8580</td>\n",
       "      <td>46</td>\n",
       "      <td>2009</td>\n",
       "      <td>Non Fiction</td>\n",
       "    </tr>\n",
       "    <tr>\n",
       "      <th>8</th>\n",
       "      <td>272</td>\n",
       "      <td>Publication Manual of the American Psychologic...</td>\n",
       "      <td>American Psychological Association</td>\n",
       "      <td>4.5</td>\n",
       "      <td>8580</td>\n",
       "      <td>46</td>\n",
       "      <td>2010</td>\n",
       "      <td>Non Fiction</td>\n",
       "    </tr>\n",
       "    <tr>\n",
       "      <th>9</th>\n",
       "      <td>275</td>\n",
       "      <td>Publication Manual of the American Psychologic...</td>\n",
       "      <td>American Psychological Association</td>\n",
       "      <td>4.5</td>\n",
       "      <td>8580</td>\n",
       "      <td>46</td>\n",
       "      <td>2013</td>\n",
       "      <td>Non Fiction</td>\n",
       "    </tr>\n",
       "  </tbody>\n",
       "</table>\n",
       "</div>"
      ],
      "text/plain": [
       "   index                                               Name  \\\n",
       "0     69  Diagnostic and Statistical Manual of Mental Di...   \n",
       "1     70  Diagnostic and Statistical Manual of Mental Di...   \n",
       "2    473                       The Twilight Saga Collection   \n",
       "3    151                           Hamilton: The Revolution   \n",
       "4    346  The Book of Basketball: The NBA According to T...   \n",
       "5    159         Harry Potter Paperback Box Set (Books 1-7)   \n",
       "6    273  Publication Manual of the American Psychologic...   \n",
       "7    271  Publication Manual of the American Psychologic...   \n",
       "8    272  Publication Manual of the American Psychologic...   \n",
       "9    275  Publication Manual of the American Psychologic...   \n",
       "\n",
       "                               Author  User Rating  Reviews  Price  Year  \\\n",
       "0    American Psychiatric Association          4.5     6679    105  2013   \n",
       "1    American Psychiatric Association          4.5     6679    105  2014   \n",
       "2                     Stephenie Meyer          4.7     3801     82  2009   \n",
       "3                  Lin-Manuel Miranda          4.9     5867     54  2016   \n",
       "4                        Bill Simmons          4.7      858     53  2009   \n",
       "5                       J. K. Rowling          4.8    13471     52  2016   \n",
       "6  American Psychological Association          4.5     8580     46  2011   \n",
       "7  American Psychological Association          4.5     8580     46  2009   \n",
       "8  American Psychological Association          4.5     8580     46  2010   \n",
       "9  American Psychological Association          4.5     8580     46  2013   \n",
       "\n",
       "         Genre  \n",
       "0  Non Fiction  \n",
       "1  Non Fiction  \n",
       "2      Fiction  \n",
       "3  Non Fiction  \n",
       "4  Non Fiction  \n",
       "5      Fiction  \n",
       "6  Non Fiction  \n",
       "7  Non Fiction  \n",
       "8  Non Fiction  \n",
       "9  Non Fiction  "
      ]
     },
     "execution_count": 8,
     "metadata": {},
     "output_type": "execute_result"
    }
   ],
   "source": [
    "#top 10 expensive books\n",
    "topPrice = df.sort_values('Price', ascending=False)\\\n",
    "                                                    .head(10)\\\n",
    "                                                    .reset_index()\n",
    "topPrice"
   ]
  },
  {
   "cell_type": "code",
   "execution_count": 9,
   "id": "88e27da7",
   "metadata": {
    "execution": {
     "iopub.execute_input": "2022-01-24T19:54:47.414138Z",
     "iopub.status.busy": "2022-01-24T19:54:47.413254Z",
     "iopub.status.idle": "2022-01-24T19:54:47.437261Z",
     "shell.execute_reply": "2022-01-24T19:54:47.437874Z",
     "shell.execute_reply.started": "2022-01-24T19:50:52.838427Z"
    },
    "papermill": {
     "duration": 0.047359,
     "end_time": "2022-01-24T19:54:47.438074",
     "exception": false,
     "start_time": "2022-01-24T19:54:47.390715",
     "status": "completed"
    },
    "tags": []
   },
   "outputs": [
    {
     "data": {
      "text/html": [
       "<div>\n",
       "<style scoped>\n",
       "    .dataframe tbody tr th:only-of-type {\n",
       "        vertical-align: middle;\n",
       "    }\n",
       "\n",
       "    .dataframe tbody tr th {\n",
       "        vertical-align: top;\n",
       "    }\n",
       "\n",
       "    .dataframe thead th {\n",
       "        text-align: right;\n",
       "    }\n",
       "</style>\n",
       "<table border=\"1\" class=\"dataframe\">\n",
       "  <thead>\n",
       "    <tr style=\"text-align: right;\">\n",
       "      <th></th>\n",
       "      <th>Author</th>\n",
       "      <th>User Rating</th>\n",
       "    </tr>\n",
       "  </thead>\n",
       "  <tbody>\n",
       "    <tr>\n",
       "      <th>0</th>\n",
       "      <td>Patrick Thorpe</td>\n",
       "      <td>4.90</td>\n",
       "    </tr>\n",
       "    <tr>\n",
       "      <th>1</th>\n",
       "      <td>Lin-Manuel Miranda</td>\n",
       "      <td>4.90</td>\n",
       "    </tr>\n",
       "    <tr>\n",
       "      <th>2</th>\n",
       "      <td>Chip Gaines</td>\n",
       "      <td>4.90</td>\n",
       "    </tr>\n",
       "    <tr>\n",
       "      <th>3</th>\n",
       "      <td>Sherri Duskey Rinker</td>\n",
       "      <td>4.90</td>\n",
       "    </tr>\n",
       "    <tr>\n",
       "      <th>4</th>\n",
       "      <td>Nathan W. Pyle</td>\n",
       "      <td>4.90</td>\n",
       "    </tr>\n",
       "    <tr>\n",
       "      <th>5</th>\n",
       "      <td>Pete Souza</td>\n",
       "      <td>4.90</td>\n",
       "    </tr>\n",
       "    <tr>\n",
       "      <th>6</th>\n",
       "      <td>Sarah Young</td>\n",
       "      <td>4.90</td>\n",
       "    </tr>\n",
       "    <tr>\n",
       "      <th>7</th>\n",
       "      <td>Bill Martin Jr.</td>\n",
       "      <td>4.90</td>\n",
       "    </tr>\n",
       "    <tr>\n",
       "      <th>8</th>\n",
       "      <td>Dav Pilkey</td>\n",
       "      <td>4.90</td>\n",
       "    </tr>\n",
       "    <tr>\n",
       "      <th>9</th>\n",
       "      <td>Rush Limbaugh</td>\n",
       "      <td>4.90</td>\n",
       "    </tr>\n",
       "    <tr>\n",
       "      <th>10</th>\n",
       "      <td>Jill Twiss</td>\n",
       "      <td>4.90</td>\n",
       "    </tr>\n",
       "    <tr>\n",
       "      <th>11</th>\n",
       "      <td>Emily Winfield Martin</td>\n",
       "      <td>4.90</td>\n",
       "    </tr>\n",
       "    <tr>\n",
       "      <th>12</th>\n",
       "      <td>Eric Carle</td>\n",
       "      <td>4.90</td>\n",
       "    </tr>\n",
       "    <tr>\n",
       "      <th>13</th>\n",
       "      <td>Alice Schertle</td>\n",
       "      <td>4.90</td>\n",
       "    </tr>\n",
       "    <tr>\n",
       "      <th>14</th>\n",
       "      <td>Dr. Seuss</td>\n",
       "      <td>4.88</td>\n",
       "    </tr>\n",
       "  </tbody>\n",
       "</table>\n",
       "</div>"
      ],
      "text/plain": [
       "                   Author  User Rating\n",
       "0          Patrick Thorpe         4.90\n",
       "1      Lin-Manuel Miranda         4.90\n",
       "2             Chip Gaines         4.90\n",
       "3    Sherri Duskey Rinker         4.90\n",
       "4          Nathan W. Pyle         4.90\n",
       "5              Pete Souza         4.90\n",
       "6             Sarah Young         4.90\n",
       "7         Bill Martin Jr.         4.90\n",
       "8              Dav Pilkey         4.90\n",
       "9           Rush Limbaugh         4.90\n",
       "10             Jill Twiss         4.90\n",
       "11  Emily Winfield Martin         4.90\n",
       "12             Eric Carle         4.90\n",
       "13         Alice Schertle         4.90\n",
       "14              Dr. Seuss         4.88"
      ]
     },
     "execution_count": 9,
     "metadata": {},
     "output_type": "execute_result"
    }
   ],
   "source": [
    "#top 15 authors with highest average rating\n",
    "toprated_authors = df.groupby('Author')[['User Rating']].mean()\\\n",
    "                                                              .sort_values('User Rating', ascending=False)\\\n",
    "                                                              .head(15)\\\n",
    "                                                              .reset_index()\n",
    "\n",
    "toprated_authors.round(2)\n"
   ]
  },
  {
   "cell_type": "code",
   "execution_count": 10,
   "id": "555fc6ba",
   "metadata": {
    "execution": {
     "iopub.execute_input": "2022-01-24T19:54:47.492295Z",
     "iopub.status.busy": "2022-01-24T19:54:47.491545Z",
     "iopub.status.idle": "2022-01-24T19:54:47.495743Z",
     "shell.execute_reply": "2022-01-24T19:54:47.495095Z",
     "shell.execute_reply.started": "2022-01-24T19:50:52.860116Z"
    },
    "papermill": {
     "duration": 0.037331,
     "end_time": "2022-01-24T19:54:47.495919",
     "exception": false,
     "start_time": "2022-01-24T19:54:47.458588",
     "status": "completed"
    },
    "tags": []
   },
   "outputs": [
    {
     "data": {
      "text/html": [
       "<div>\n",
       "<style scoped>\n",
       "    .dataframe tbody tr th:only-of-type {\n",
       "        vertical-align: middle;\n",
       "    }\n",
       "\n",
       "    .dataframe tbody tr th {\n",
       "        vertical-align: top;\n",
       "    }\n",
       "\n",
       "    .dataframe thead th {\n",
       "        text-align: right;\n",
       "    }\n",
       "</style>\n",
       "<table border=\"1\" class=\"dataframe\">\n",
       "  <thead>\n",
       "    <tr style=\"text-align: right;\">\n",
       "      <th></th>\n",
       "      <th>Name</th>\n",
       "      <th>Author</th>\n",
       "      <th>User Rating</th>\n",
       "      <th>Reviews</th>\n",
       "      <th>Price</th>\n",
       "      <th>Year</th>\n",
       "      <th>Genre</th>\n",
       "    </tr>\n",
       "  </thead>\n",
       "  <tbody>\n",
       "    <tr>\n",
       "      <th>14</th>\n",
       "      <td>Act Like a Lady, Think Like a Man: What Men Re...</td>\n",
       "      <td>Steve Harvey</td>\n",
       "      <td>4.6</td>\n",
       "      <td>5013</td>\n",
       "      <td>17</td>\n",
       "      <td>2009</td>\n",
       "      <td>Non Fiction</td>\n",
       "    </tr>\n",
       "    <tr>\n",
       "      <th>25</th>\n",
       "      <td>Arguing with Idiots: How to Stop Small Minds a...</td>\n",
       "      <td>Glenn Beck</td>\n",
       "      <td>4.6</td>\n",
       "      <td>798</td>\n",
       "      <td>5</td>\n",
       "      <td>2009</td>\n",
       "      <td>Non Fiction</td>\n",
       "    </tr>\n",
       "    <tr>\n",
       "      <th>38</th>\n",
       "      <td>Breaking Dawn (The Twilight Saga, Book 4)</td>\n",
       "      <td>Stephenie Meyer</td>\n",
       "      <td>4.6</td>\n",
       "      <td>9769</td>\n",
       "      <td>13</td>\n",
       "      <td>2009</td>\n",
       "      <td>Fiction</td>\n",
       "    </tr>\n",
       "    <tr>\n",
       "      <th>50</th>\n",
       "      <td>Crazy Love: Overwhelmed by a Relentless God</td>\n",
       "      <td>Francis Chan</td>\n",
       "      <td>4.7</td>\n",
       "      <td>1542</td>\n",
       "      <td>14</td>\n",
       "      <td>2009</td>\n",
       "      <td>Non Fiction</td>\n",
       "    </tr>\n",
       "    <tr>\n",
       "      <th>60</th>\n",
       "      <td>Dead And Gone: A Sookie Stackhouse Novel (Sook...</td>\n",
       "      <td>Charlaine Harris</td>\n",
       "      <td>4.6</td>\n",
       "      <td>1541</td>\n",
       "      <td>4</td>\n",
       "      <td>2009</td>\n",
       "      <td>Fiction</td>\n",
       "    </tr>\n",
       "  </tbody>\n",
       "</table>\n",
       "</div>"
      ],
      "text/plain": [
       "                                                 Name            Author  \\\n",
       "14  Act Like a Lady, Think Like a Man: What Men Re...      Steve Harvey   \n",
       "25  Arguing with Idiots: How to Stop Small Minds a...        Glenn Beck   \n",
       "38          Breaking Dawn (The Twilight Saga, Book 4)   Stephenie Meyer   \n",
       "50        Crazy Love: Overwhelmed by a Relentless God      Francis Chan   \n",
       "60  Dead And Gone: A Sookie Stackhouse Novel (Sook...  Charlaine Harris   \n",
       "\n",
       "    User Rating  Reviews  Price  Year        Genre  \n",
       "14          4.6     5013     17  2009  Non Fiction  \n",
       "25          4.6      798      5  2009  Non Fiction  \n",
       "38          4.6     9769     13  2009      Fiction  \n",
       "50          4.7     1542     14  2009  Non Fiction  \n",
       "60          4.6     1541      4  2009      Fiction  "
      ]
     },
     "execution_count": 10,
     "metadata": {},
     "output_type": "execute_result"
    }
   ],
   "source": [
    "#2009 authors\n",
    "df09 = df[(df.Year == 2009)]\n",
    "df09.head()"
   ]
  },
  {
   "cell_type": "code",
   "execution_count": 11,
   "id": "53fc096c",
   "metadata": {
    "execution": {
     "iopub.execute_input": "2022-01-24T19:54:47.549117Z",
     "iopub.status.busy": "2022-01-24T19:54:47.548395Z",
     "iopub.status.idle": "2022-01-24T19:54:47.551242Z",
     "shell.execute_reply": "2022-01-24T19:54:47.551922Z",
     "shell.execute_reply.started": "2022-01-24T19:50:52.876279Z"
    },
    "papermill": {
     "duration": 0.036753,
     "end_time": "2022-01-24T19:54:47.552111",
     "exception": false,
     "start_time": "2022-01-24T19:54:47.515358",
     "status": "completed"
    },
    "tags": []
   },
   "outputs": [
    {
     "data": {
      "text/html": [
       "<div>\n",
       "<style scoped>\n",
       "    .dataframe tbody tr th:only-of-type {\n",
       "        vertical-align: middle;\n",
       "    }\n",
       "\n",
       "    .dataframe tbody tr th {\n",
       "        vertical-align: top;\n",
       "    }\n",
       "\n",
       "    .dataframe thead th {\n",
       "        text-align: right;\n",
       "    }\n",
       "</style>\n",
       "<table border=\"1\" class=\"dataframe\">\n",
       "  <thead>\n",
       "    <tr style=\"text-align: right;\">\n",
       "      <th></th>\n",
       "      <th>Name</th>\n",
       "      <th>Author</th>\n",
       "      <th>User Rating</th>\n",
       "      <th>Reviews</th>\n",
       "      <th>Price</th>\n",
       "      <th>Year</th>\n",
       "      <th>Genre</th>\n",
       "    </tr>\n",
       "  </thead>\n",
       "  <tbody>\n",
       "    <tr>\n",
       "      <th>4</th>\n",
       "      <td>5,000 Awesome Facts (About Everything!) (Natio...</td>\n",
       "      <td>National Geographic Kids</td>\n",
       "      <td>4.8</td>\n",
       "      <td>7665</td>\n",
       "      <td>12</td>\n",
       "      <td>2019</td>\n",
       "      <td>Non Fiction</td>\n",
       "    </tr>\n",
       "    <tr>\n",
       "      <th>33</th>\n",
       "      <td>Becoming</td>\n",
       "      <td>Michelle Obama</td>\n",
       "      <td>4.8</td>\n",
       "      <td>61133</td>\n",
       "      <td>11</td>\n",
       "      <td>2019</td>\n",
       "      <td>Non Fiction</td>\n",
       "    </tr>\n",
       "    <tr>\n",
       "      <th>41</th>\n",
       "      <td>Brown Bear, Brown Bear, What Do You See?</td>\n",
       "      <td>Bill Martin Jr.</td>\n",
       "      <td>4.9</td>\n",
       "      <td>14344</td>\n",
       "      <td>5</td>\n",
       "      <td>2019</td>\n",
       "      <td>Fiction</td>\n",
       "    </tr>\n",
       "    <tr>\n",
       "      <th>44</th>\n",
       "      <td>Can't Hurt Me: Master Your Mind and Defy the Odds</td>\n",
       "      <td>David Goggins</td>\n",
       "      <td>4.8</td>\n",
       "      <td>16244</td>\n",
       "      <td>18</td>\n",
       "      <td>2019</td>\n",
       "      <td>Non Fiction</td>\n",
       "    </tr>\n",
       "    <tr>\n",
       "      <th>74</th>\n",
       "      <td>Difficult Riddles For Smart Kids: 300 Difficul...</td>\n",
       "      <td>M Prefontaine</td>\n",
       "      <td>4.6</td>\n",
       "      <td>7955</td>\n",
       "      <td>5</td>\n",
       "      <td>2019</td>\n",
       "      <td>Non Fiction</td>\n",
       "    </tr>\n",
       "  </tbody>\n",
       "</table>\n",
       "</div>"
      ],
      "text/plain": [
       "                                                 Name  \\\n",
       "4   5,000 Awesome Facts (About Everything!) (Natio...   \n",
       "33                                           Becoming   \n",
       "41           Brown Bear, Brown Bear, What Do You See?   \n",
       "44  Can't Hurt Me: Master Your Mind and Defy the Odds   \n",
       "74  Difficult Riddles For Smart Kids: 300 Difficul...   \n",
       "\n",
       "                      Author  User Rating  Reviews  Price  Year        Genre  \n",
       "4   National Geographic Kids          4.8     7665     12  2019  Non Fiction  \n",
       "33            Michelle Obama          4.8    61133     11  2019  Non Fiction  \n",
       "41           Bill Martin Jr.          4.9    14344      5  2019      Fiction  \n",
       "44             David Goggins          4.8    16244     18  2019  Non Fiction  \n",
       "74             M Prefontaine          4.6     7955      5  2019  Non Fiction  "
      ]
     },
     "execution_count": 11,
     "metadata": {},
     "output_type": "execute_result"
    }
   ],
   "source": [
    "#2019 authors\n",
    "df19 = df[(df.Year == 2019)]\n",
    "df19.head()"
   ]
  },
  {
   "cell_type": "code",
   "execution_count": 12,
   "id": "c065f1be",
   "metadata": {
    "execution": {
     "iopub.execute_input": "2022-01-24T19:54:47.598408Z",
     "iopub.status.busy": "2022-01-24T19:54:47.595640Z",
     "iopub.status.idle": "2022-01-24T19:54:47.609877Z",
     "shell.execute_reply": "2022-01-24T19:54:47.610308Z",
     "shell.execute_reply.started": "2022-01-24T19:50:52.891436Z"
    },
    "papermill": {
     "duration": 0.03849,
     "end_time": "2022-01-24T19:54:47.610534",
     "exception": false,
     "start_time": "2022-01-24T19:54:47.572044",
     "status": "completed"
    },
    "tags": []
   },
   "outputs": [
    {
     "data": {
      "text/html": [
       "<div>\n",
       "<style scoped>\n",
       "    .dataframe tbody tr th:only-of-type {\n",
       "        vertical-align: middle;\n",
       "    }\n",
       "\n",
       "    .dataframe tbody tr th {\n",
       "        vertical-align: top;\n",
       "    }\n",
       "\n",
       "    .dataframe thead th {\n",
       "        text-align: right;\n",
       "    }\n",
       "</style>\n",
       "<table border=\"1\" class=\"dataframe\">\n",
       "  <thead>\n",
       "    <tr style=\"text-align: right;\">\n",
       "      <th></th>\n",
       "      <th>Author</th>\n",
       "      <th>Name</th>\n",
       "    </tr>\n",
       "  </thead>\n",
       "  <tbody>\n",
       "    <tr>\n",
       "      <th>0</th>\n",
       "      <td>Stephenie Meyer</td>\n",
       "      <td>6</td>\n",
       "    </tr>\n",
       "    <tr>\n",
       "      <th>1</th>\n",
       "      <td>Malcolm Gladwell</td>\n",
       "      <td>2</td>\n",
       "    </tr>\n",
       "    <tr>\n",
       "      <th>2</th>\n",
       "      <td>Charlaine Harris</td>\n",
       "      <td>2</td>\n",
       "    </tr>\n",
       "    <tr>\n",
       "      <th>3</th>\n",
       "      <td>Stieg Larsson</td>\n",
       "      <td>2</td>\n",
       "    </tr>\n",
       "    <tr>\n",
       "      <th>4</th>\n",
       "      <td>David Zinczenko</td>\n",
       "      <td>2</td>\n",
       "    </tr>\n",
       "    <tr>\n",
       "      <th>5</th>\n",
       "      <td>Jeff Kinney</td>\n",
       "      <td>2</td>\n",
       "    </tr>\n",
       "    <tr>\n",
       "      <th>6</th>\n",
       "      <td>Glenn Beck</td>\n",
       "      <td>2</td>\n",
       "    </tr>\n",
       "    <tr>\n",
       "      <th>7</th>\n",
       "      <td>Stephen Kendrick</td>\n",
       "      <td>1</td>\n",
       "    </tr>\n",
       "    <tr>\n",
       "      <th>8</th>\n",
       "      <td>Muriel Barbery</td>\n",
       "      <td>1</td>\n",
       "    </tr>\n",
       "    <tr>\n",
       "      <th>9</th>\n",
       "      <td>Patrick Lencioni</td>\n",
       "      <td>1</td>\n",
       "    </tr>\n",
       "  </tbody>\n",
       "</table>\n",
       "</div>"
      ],
      "text/plain": [
       "             Author  Name\n",
       "0   Stephenie Meyer     6\n",
       "1  Malcolm Gladwell     2\n",
       "2  Charlaine Harris     2\n",
       "3     Stieg Larsson     2\n",
       "4   David Zinczenko     2\n",
       "5       Jeff Kinney     2\n",
       "6        Glenn Beck     2\n",
       "7  Stephen Kendrick     1\n",
       "8    Muriel Barbery     1\n",
       "9  Patrick Lencioni     1"
      ]
     },
     "execution_count": 12,
     "metadata": {},
     "output_type": "execute_result"
    }
   ],
   "source": [
    "# 2009 Top 10 authors with most bestsellers\n",
    "top09_writers = df09.groupby('Author')[['Name']].count()\\\n",
    "                                                     .sort_values('Name', ascending=False)\\\n",
    "                                                     .head(10)\\\n",
    "                                                     .reset_index()\n",
    "\n",
    "top09_writers"
   ]
  },
  {
   "cell_type": "code",
   "execution_count": 13,
   "id": "c9641f01",
   "metadata": {
    "execution": {
     "iopub.execute_input": "2022-01-24T19:54:47.654256Z",
     "iopub.status.busy": "2022-01-24T19:54:47.653613Z",
     "iopub.status.idle": "2022-01-24T19:54:47.669217Z",
     "shell.execute_reply": "2022-01-24T19:54:47.668547Z",
     "shell.execute_reply.started": "2022-01-24T19:50:52.905790Z"
    },
    "papermill": {
     "duration": 0.039124,
     "end_time": "2022-01-24T19:54:47.669384",
     "exception": false,
     "start_time": "2022-01-24T19:54:47.630260",
     "status": "completed"
    },
    "tags": []
   },
   "outputs": [
    {
     "data": {
      "text/html": [
       "<div>\n",
       "<style scoped>\n",
       "    .dataframe tbody tr th:only-of-type {\n",
       "        vertical-align: middle;\n",
       "    }\n",
       "\n",
       "    .dataframe tbody tr th {\n",
       "        vertical-align: top;\n",
       "    }\n",
       "\n",
       "    .dataframe thead th {\n",
       "        text-align: right;\n",
       "    }\n",
       "</style>\n",
       "<table border=\"1\" class=\"dataframe\">\n",
       "  <thead>\n",
       "    <tr style=\"text-align: right;\">\n",
       "      <th></th>\n",
       "      <th>Author</th>\n",
       "      <th>Name</th>\n",
       "    </tr>\n",
       "  </thead>\n",
       "  <tbody>\n",
       "    <tr>\n",
       "      <th>0</th>\n",
       "      <td>Dav Pilkey</td>\n",
       "      <td>3</td>\n",
       "    </tr>\n",
       "    <tr>\n",
       "      <th>1</th>\n",
       "      <td>Rachel Hollis</td>\n",
       "      <td>2</td>\n",
       "    </tr>\n",
       "    <tr>\n",
       "      <th>2</th>\n",
       "      <td>Adir Levy</td>\n",
       "      <td>1</td>\n",
       "    </tr>\n",
       "    <tr>\n",
       "      <th>3</th>\n",
       "      <td>Naomi Kleinberg</td>\n",
       "      <td>1</td>\n",
       "    </tr>\n",
       "    <tr>\n",
       "      <th>4</th>\n",
       "      <td>Jennifer Smith</td>\n",
       "      <td>1</td>\n",
       "    </tr>\n",
       "    <tr>\n",
       "      <th>5</th>\n",
       "      <td>John Grisham</td>\n",
       "      <td>1</td>\n",
       "    </tr>\n",
       "    <tr>\n",
       "      <th>6</th>\n",
       "      <td>Lysa TerKeurst</td>\n",
       "      <td>1</td>\n",
       "    </tr>\n",
       "    <tr>\n",
       "      <th>7</th>\n",
       "      <td>M Prefontaine</td>\n",
       "      <td>1</td>\n",
       "    </tr>\n",
       "    <tr>\n",
       "      <th>8</th>\n",
       "      <td>Margaret Wise Brown</td>\n",
       "      <td>1</td>\n",
       "    </tr>\n",
       "    <tr>\n",
       "      <th>9</th>\n",
       "      <td>Marie Kondō</td>\n",
       "      <td>1</td>\n",
       "    </tr>\n",
       "  </tbody>\n",
       "</table>\n",
       "</div>"
      ],
      "text/plain": [
       "                Author  Name\n",
       "0           Dav Pilkey     3\n",
       "1        Rachel Hollis     2\n",
       "2            Adir Levy     1\n",
       "3      Naomi Kleinberg     1\n",
       "4       Jennifer Smith     1\n",
       "5         John Grisham     1\n",
       "6       Lysa TerKeurst     1\n",
       "7        M Prefontaine     1\n",
       "8  Margaret Wise Brown     1\n",
       "9          Marie Kondō     1"
      ]
     },
     "execution_count": 13,
     "metadata": {},
     "output_type": "execute_result"
    }
   ],
   "source": [
    "# 2019 Top 10 authors with most bestsellers\n",
    "top19_writers = df19.groupby('Author')[['Name']].count()\\\n",
    "                                                     .sort_values('Name', ascending=False)\\\n",
    "                                                     .head(10)\\\n",
    "                                                     .reset_index()\n",
    "\n",
    "top19_writers"
   ]
  },
  {
   "cell_type": "code",
   "execution_count": 14,
   "id": "fc30ecf3",
   "metadata": {
    "execution": {
     "iopub.execute_input": "2022-01-24T19:54:47.721182Z",
     "iopub.status.busy": "2022-01-24T19:54:47.719981Z",
     "iopub.status.idle": "2022-01-24T19:54:47.731302Z",
     "shell.execute_reply": "2022-01-24T19:54:47.731905Z",
     "shell.execute_reply.started": "2022-01-24T19:50:52.923382Z"
    },
    "papermill": {
     "duration": 0.040742,
     "end_time": "2022-01-24T19:54:47.732119",
     "exception": false,
     "start_time": "2022-01-24T19:54:47.691377",
     "status": "completed"
    },
    "tags": []
   },
   "outputs": [
    {
     "data": {
      "text/html": [
       "<div>\n",
       "<style scoped>\n",
       "    .dataframe tbody tr th:only-of-type {\n",
       "        vertical-align: middle;\n",
       "    }\n",
       "\n",
       "    .dataframe tbody tr th {\n",
       "        vertical-align: top;\n",
       "    }\n",
       "\n",
       "    .dataframe thead th {\n",
       "        text-align: right;\n",
       "    }\n",
       "</style>\n",
       "<table border=\"1\" class=\"dataframe\">\n",
       "  <thead>\n",
       "    <tr style=\"text-align: right;\">\n",
       "      <th></th>\n",
       "      <th>Author</th>\n",
       "      <th>Name</th>\n",
       "    </tr>\n",
       "  </thead>\n",
       "  <tbody>\n",
       "    <tr>\n",
       "      <th>0</th>\n",
       "      <td>Jeff Kinney</td>\n",
       "      <td>12</td>\n",
       "    </tr>\n",
       "    <tr>\n",
       "      <th>1</th>\n",
       "      <td>Gary Chapman</td>\n",
       "      <td>11</td>\n",
       "    </tr>\n",
       "    <tr>\n",
       "      <th>2</th>\n",
       "      <td>Suzanne Collins</td>\n",
       "      <td>11</td>\n",
       "    </tr>\n",
       "    <tr>\n",
       "      <th>3</th>\n",
       "      <td>Rick Riordan</td>\n",
       "      <td>11</td>\n",
       "    </tr>\n",
       "    <tr>\n",
       "      <th>4</th>\n",
       "      <td>American Psychological Association</td>\n",
       "      <td>10</td>\n",
       "    </tr>\n",
       "    <tr>\n",
       "      <th>5</th>\n",
       "      <td>Gallup</td>\n",
       "      <td>9</td>\n",
       "    </tr>\n",
       "    <tr>\n",
       "      <th>6</th>\n",
       "      <td>Dr. Seuss</td>\n",
       "      <td>9</td>\n",
       "    </tr>\n",
       "    <tr>\n",
       "      <th>7</th>\n",
       "      <td>Rob Elliott</td>\n",
       "      <td>8</td>\n",
       "    </tr>\n",
       "    <tr>\n",
       "      <th>8</th>\n",
       "      <td>Eric Carle</td>\n",
       "      <td>7</td>\n",
       "    </tr>\n",
       "    <tr>\n",
       "      <th>9</th>\n",
       "      <td>Bill O'Reilly</td>\n",
       "      <td>7</td>\n",
       "    </tr>\n",
       "  </tbody>\n",
       "</table>\n",
       "</div>"
      ],
      "text/plain": [
       "                               Author  Name\n",
       "0                         Jeff Kinney    12\n",
       "1                        Gary Chapman    11\n",
       "2                     Suzanne Collins    11\n",
       "3                        Rick Riordan    11\n",
       "4  American Psychological Association    10\n",
       "5                              Gallup     9\n",
       "6                           Dr. Seuss     9\n",
       "7                         Rob Elliott     8\n",
       "8                          Eric Carle     7\n",
       "9                       Bill O'Reilly     7"
      ]
     },
     "execution_count": 14,
     "metadata": {},
     "output_type": "execute_result"
    }
   ],
   "source": [
    "#Top 10 authors with most bestsellers\n",
    "top_writers = df.groupby('Author')[['Name']].count()\\\n",
    "                                                     .sort_values('Name', ascending=False)\\\n",
    "                                                     .head(10)\\\n",
    "                                                     .reset_index()\n",
    "top_writers"
   ]
  },
  {
   "cell_type": "code",
   "execution_count": 15,
   "id": "bb24c9e2",
   "metadata": {
    "execution": {
     "iopub.execute_input": "2022-01-24T19:54:47.785119Z",
     "iopub.status.busy": "2022-01-24T19:54:47.784254Z",
     "iopub.status.idle": "2022-01-24T19:54:47.787620Z",
     "shell.execute_reply": "2022-01-24T19:54:47.788086Z",
     "shell.execute_reply.started": "2022-01-24T19:50:52.939596Z"
    },
    "papermill": {
     "duration": 0.035019,
     "end_time": "2022-01-24T19:54:47.788267",
     "exception": false,
     "start_time": "2022-01-24T19:54:47.753248",
     "status": "completed"
    },
    "tags": []
   },
   "outputs": [
    {
     "data": {
      "text/html": [
       "<div>\n",
       "<style scoped>\n",
       "    .dataframe tbody tr th:only-of-type {\n",
       "        vertical-align: middle;\n",
       "    }\n",
       "\n",
       "    .dataframe tbody tr th {\n",
       "        vertical-align: top;\n",
       "    }\n",
       "\n",
       "    .dataframe thead th {\n",
       "        text-align: right;\n",
       "    }\n",
       "</style>\n",
       "<table border=\"1\" class=\"dataframe\">\n",
       "  <thead>\n",
       "    <tr style=\"text-align: right;\">\n",
       "      <th></th>\n",
       "      <th>Author</th>\n",
       "      <th>Name</th>\n",
       "    </tr>\n",
       "  </thead>\n",
       "  <tbody>\n",
       "    <tr>\n",
       "      <th>0</th>\n",
       "      <td>Jeff Kinney</td>\n",
       "      <td>12</td>\n",
       "    </tr>\n",
       "    <tr>\n",
       "      <th>1</th>\n",
       "      <td>Gary Chapman</td>\n",
       "      <td>11</td>\n",
       "    </tr>\n",
       "    <tr>\n",
       "      <th>2</th>\n",
       "      <td>Suzanne Collins</td>\n",
       "      <td>11</td>\n",
       "    </tr>\n",
       "    <tr>\n",
       "      <th>3</th>\n",
       "      <td>Rick Riordan</td>\n",
       "      <td>11</td>\n",
       "    </tr>\n",
       "    <tr>\n",
       "      <th>4</th>\n",
       "      <td>APA</td>\n",
       "      <td>10</td>\n",
       "    </tr>\n",
       "    <tr>\n",
       "      <th>5</th>\n",
       "      <td>Gallup</td>\n",
       "      <td>9</td>\n",
       "    </tr>\n",
       "    <tr>\n",
       "      <th>6</th>\n",
       "      <td>Dr. Seuss</td>\n",
       "      <td>9</td>\n",
       "    </tr>\n",
       "    <tr>\n",
       "      <th>7</th>\n",
       "      <td>Rob Elliott</td>\n",
       "      <td>8</td>\n",
       "    </tr>\n",
       "    <tr>\n",
       "      <th>8</th>\n",
       "      <td>Eric Carle</td>\n",
       "      <td>7</td>\n",
       "    </tr>\n",
       "    <tr>\n",
       "      <th>9</th>\n",
       "      <td>Bill O'Reilly</td>\n",
       "      <td>7</td>\n",
       "    </tr>\n",
       "  </tbody>\n",
       "</table>\n",
       "</div>"
      ],
      "text/plain": [
       "            Author  Name\n",
       "0      Jeff Kinney    12\n",
       "1     Gary Chapman    11\n",
       "2  Suzanne Collins    11\n",
       "3     Rick Riordan    11\n",
       "4              APA    10\n",
       "5           Gallup     9\n",
       "6        Dr. Seuss     9\n",
       "7      Rob Elliott     8\n",
       "8       Eric Carle     7\n",
       "9    Bill O'Reilly     7"
      ]
     },
     "execution_count": 15,
     "metadata": {},
     "output_type": "execute_result"
    }
   ],
   "source": [
    "#shortening the name of the author to fit the graph\n",
    "top_writers = top_writers.replace('American Psychological Association', 'APA')\n",
    "\n",
    "top_writers"
   ]
  },
  {
   "cell_type": "code",
   "execution_count": 16,
   "id": "c4999936",
   "metadata": {
    "execution": {
     "iopub.execute_input": "2022-01-24T19:54:47.834726Z",
     "iopub.status.busy": "2022-01-24T19:54:47.834047Z",
     "iopub.status.idle": "2022-01-24T19:54:48.095891Z",
     "shell.execute_reply": "2022-01-24T19:54:48.095156Z",
     "shell.execute_reply.started": "2022-01-24T19:50:52.955711Z"
    },
    "papermill": {
     "duration": 0.286998,
     "end_time": "2022-01-24T19:54:48.096091",
     "exception": false,
     "start_time": "2022-01-24T19:54:47.809093",
     "status": "completed"
    },
    "tags": []
   },
   "outputs": [
    {
     "data": {
      "text/plain": [
       "Text(0.5, 1.0, 'Top 10 Authors by Number of Bestsellers')"
      ]
     },
     "execution_count": 16,
     "metadata": {},
     "output_type": "execute_result"
    },
    {
     "data": {
      "image/png": "[encoded data removed]",
      "text/plain": [
       "<Figure size 432x288 with 1 Axes>"
      ]
     },
     "metadata": {
      "needs_background": "light"
     },
     "output_type": "display_data"
    }
   ],
   "source": [
    "#plot authors with most bestsellers\n",
    "x = top_writers.Author \n",
    "h = top_writers.Name\n",
    "\n",
    "plt.bar(x, h, color= 'steelblue') \n",
    "\n",
    "plt.xticks(rotation=90)\n",
    "\n",
    "plt.xlabel('Author', fontweight='bold', color = 'black', fontsize='14', verticalalignment='bottom')\n",
    "plt.ylabel('# of Bestsellers', fontweight='bold', color = 'black', fontsize='14', verticalalignment='bottom')\n",
    "plt.title('Top 10 Authors by Number of Bestsellers')"
   ]
  },
  {
   "cell_type": "code",
   "execution_count": 17,
   "id": "3aeb7242",
   "metadata": {
    "execution": {
     "iopub.execute_input": "2022-01-24T19:54:48.149650Z",
     "iopub.status.busy": "2022-01-24T19:54:48.148916Z",
     "iopub.status.idle": "2022-01-24T19:54:48.159690Z",
     "shell.execute_reply": "2022-01-24T19:54:48.160171Z",
     "shell.execute_reply.started": "2022-01-24T19:50:53.193937Z"
    },
    "papermill": {
     "duration": 0.041744,
     "end_time": "2022-01-24T19:54:48.160354",
     "exception": false,
     "start_time": "2022-01-24T19:54:48.118610",
     "status": "completed"
    },
    "tags": []
   },
   "outputs": [
    {
     "data": {
      "text/html": [
       "<div>\n",
       "<style scoped>\n",
       "    .dataframe tbody tr th:only-of-type {\n",
       "        vertical-align: middle;\n",
       "    }\n",
       "\n",
       "    .dataframe tbody tr th {\n",
       "        vertical-align: top;\n",
       "    }\n",
       "\n",
       "    .dataframe thead th {\n",
       "        text-align: right;\n",
       "    }\n",
       "</style>\n",
       "<table border=\"1\" class=\"dataframe\">\n",
       "  <thead>\n",
       "    <tr style=\"text-align: right;\">\n",
       "      <th></th>\n",
       "      <th>Name</th>\n",
       "      <th>Reviews</th>\n",
       "    </tr>\n",
       "  </thead>\n",
       "  <tbody>\n",
       "    <tr>\n",
       "      <th>0</th>\n",
       "      <td>The Fault in Our Stars</td>\n",
       "      <td>201928</td>\n",
       "    </tr>\n",
       "    <tr>\n",
       "      <th>1</th>\n",
       "      <td>Oh, the Places You'll Go!</td>\n",
       "      <td>174672</td>\n",
       "    </tr>\n",
       "    <tr>\n",
       "      <th>2</th>\n",
       "      <td>Gone Girl</td>\n",
       "      <td>171813</td>\n",
       "    </tr>\n",
       "    <tr>\n",
       "      <th>3</th>\n",
       "      <td>The Girl on the Train</td>\n",
       "      <td>158892</td>\n",
       "    </tr>\n",
       "    <tr>\n",
       "      <th>4</th>\n",
       "      <td>Unbroken: A World War II Story of Survival, Re...</td>\n",
       "      <td>148365</td>\n",
       "    </tr>\n",
       "  </tbody>\n",
       "</table>\n",
       "</div>"
      ],
      "text/plain": [
       "                                                Name  Reviews\n",
       "0                             The Fault in Our Stars   201928\n",
       "1                          Oh, the Places You'll Go!   174672\n",
       "2                                          Gone Girl   171813\n",
       "3                              The Girl on the Train   158892\n",
       "4  Unbroken: A World War II Story of Survival, Re...   148365"
      ]
     },
     "execution_count": 17,
     "metadata": {},
     "output_type": "execute_result"
    }
   ],
   "source": [
    "#top 5 books with high reviews\n",
    "top5_books = df.groupby('Name')[['Reviews']].sum()\\\n",
    "                                                    .sort_values('Reviews', ascending=False)\\\n",
    "                                                    .head(5)\\\n",
    "                                                    .reset_index()\n",
    "top5_books"
   ]
  },
  {
   "cell_type": "code",
   "execution_count": 18,
   "id": "b7513bdc",
   "metadata": {
    "execution": {
     "iopub.execute_input": "2022-01-24T19:54:48.209692Z",
     "iopub.status.busy": "2022-01-24T19:54:48.208673Z",
     "iopub.status.idle": "2022-01-24T19:54:48.218874Z",
     "shell.execute_reply": "2022-01-24T19:54:48.219448Z",
     "shell.execute_reply.started": "2022-01-24T19:50:53.211802Z"
    },
    "papermill": {
     "duration": 0.036797,
     "end_time": "2022-01-24T19:54:48.219669",
     "exception": false,
     "start_time": "2022-01-24T19:54:48.182872",
     "status": "completed"
    },
    "tags": []
   },
   "outputs": [
    {
     "data": {
      "text/html": [
       "<div>\n",
       "<style scoped>\n",
       "    .dataframe tbody tr th:only-of-type {\n",
       "        vertical-align: middle;\n",
       "    }\n",
       "\n",
       "    .dataframe tbody tr th {\n",
       "        vertical-align: top;\n",
       "    }\n",
       "\n",
       "    .dataframe thead th {\n",
       "        text-align: right;\n",
       "    }\n",
       "</style>\n",
       "<table border=\"1\" class=\"dataframe\">\n",
       "  <thead>\n",
       "    <tr style=\"text-align: right;\">\n",
       "      <th></th>\n",
       "      <th>Name</th>\n",
       "      <th>Reviews</th>\n",
       "    </tr>\n",
       "  </thead>\n",
       "  <tbody>\n",
       "    <tr>\n",
       "      <th>0</th>\n",
       "      <td>The Fault in Our Stars</td>\n",
       "      <td>201928</td>\n",
       "    </tr>\n",
       "    <tr>\n",
       "      <th>1</th>\n",
       "      <td>Oh, the Places You'll Go!</td>\n",
       "      <td>174672</td>\n",
       "    </tr>\n",
       "    <tr>\n",
       "      <th>2</th>\n",
       "      <td>Gone Girl</td>\n",
       "      <td>171813</td>\n",
       "    </tr>\n",
       "    <tr>\n",
       "      <th>3</th>\n",
       "      <td>The Girl on the Train</td>\n",
       "      <td>158892</td>\n",
       "    </tr>\n",
       "    <tr>\n",
       "      <th>4</th>\n",
       "      <td>A World War II Story</td>\n",
       "      <td>148365</td>\n",
       "    </tr>\n",
       "  </tbody>\n",
       "</table>\n",
       "</div>"
      ],
      "text/plain": [
       "                        Name  Reviews\n",
       "0     The Fault in Our Stars   201928\n",
       "1  Oh, the Places You'll Go!   174672\n",
       "2                  Gone Girl   171813\n",
       "3      The Girl on the Train   158892\n",
       "4       A World War II Story   148365"
      ]
     },
     "execution_count": 18,
     "metadata": {},
     "output_type": "execute_result"
    }
   ],
   "source": [
    "#shortening the name of the book to fit the graph\n",
    "top5_books = top5_books.replace('Unbroken: A World War II Story of Survival, Resilience, and Redemption', 'A World War II Story')\n",
    "top5_books"
   ]
  },
  {
   "cell_type": "code",
   "execution_count": 19,
   "id": "61c56fb9",
   "metadata": {
    "execution": {
     "iopub.execute_input": "2022-01-24T19:54:48.269451Z",
     "iopub.status.busy": "2022-01-24T19:54:48.268287Z",
     "iopub.status.idle": "2022-01-24T19:54:48.502300Z",
     "shell.execute_reply": "2022-01-24T19:54:48.501736Z",
     "shell.execute_reply.started": "2022-01-24T19:50:53.224734Z"
    },
    "papermill": {
     "duration": 0.260203,
     "end_time": "2022-01-24T19:54:48.502449",
     "exception": false,
     "start_time": "2022-01-24T19:54:48.242246",
     "status": "completed"
    },
    "tags": []
   },
   "outputs": [
    {
     "data": {
      "text/plain": [
       "Text(0, 0.5, '# of Reviews')"
      ]
     },
     "execution_count": 19,
     "metadata": {},
     "output_type": "execute_result"
    },
    {
     "data": {
      "image/png": "[encoded data removed]",
      "text/plain": [
       "<Figure size 432x288 with 1 Axes>"
      ]
     },
     "metadata": {
      "needs_background": "light"
     },
     "output_type": "display_data"
    }
   ],
   "source": [
    "#plot top 5 books with high reviews\n",
    "x = top5_books.Name\n",
    "h = top5_books.Reviews\n",
    "\n",
    "plt.bar(x, h, color= 'steelblue') \n",
    "\n",
    "plt.xticks(rotation=90)\n",
    "plt.title('Top 5 books with high reviews')\n",
    "plt.xlabel('Book Name', fontweight='bold', color = 'black', fontsize='14', verticalalignment='bottom')\n",
    "plt.ylabel('# of Reviews', fontweight='bold', color = 'black', fontsize='14', verticalalignment='bottom')\n"
   ]
  },
  {
   "cell_type": "code",
   "execution_count": 20,
   "id": "0df5915b",
   "metadata": {
    "execution": {
     "iopub.execute_input": "2022-01-24T19:54:48.557726Z",
     "iopub.status.busy": "2022-01-24T19:54:48.556989Z",
     "iopub.status.idle": "2022-01-24T19:54:49.497902Z",
     "shell.execute_reply": "2022-01-24T19:54:49.498324Z",
     "shell.execute_reply.started": "2022-01-24T19:50:53.470727Z"
    },
    "papermill": {
     "duration": 0.972265,
     "end_time": "2022-01-24T19:54:49.498541",
     "exception": false,
     "start_time": "2022-01-24T19:54:48.526276",
     "status": "completed"
    },
    "tags": []
   },
   "outputs": [
    {
     "data": {
      "text/html": [
       "        <script type=\"text/javascript\">\n",
       "        window.PlotlyConfig = {MathJaxConfig: 'local'};\n",
       "        if (window.MathJax) {MathJax.Hub.Config({SVG: {font: \"STIX-Web\"}});}\n",
       "        if (typeof require !== 'undefined') {\n",
       "        require.undef(\"plotly\");\n",
       "        requirejs.config({\n",
       "            paths: {\n",
       "                'plotly': ['https://cdn.plot.ly/plotly-2.8.3.min']\n",
       "            }\n",
       "        });\n",
       "        require(['plotly'], function(Plotly) {\n",
       "            window._Plotly = Plotly;\n",
       "        });\n",
       "        }\n",
       "        </script>\n",
       "        "
      ]
     },
     "metadata": {},
     "output_type": "display_data"
    },
    {
     "data": {
      "text/html": [
       "<div>                            <div id=\"4c2d6b96-2dcd-419b-8978-8cbdb8e88981\" class=\"plotly-graph-div\" style=\"height:525px; width:100%;\"></div>            <script type=\"text/javascript\">                require([\"plotly\"], function(Plotly) {                    window.PLOTLYENV=window.PLOTLYENV || {};                                    if (document.getElementById(\"4c2d6b96-2dcd-419b-8978-8cbdb8e88981\")) {                    Plotly.newPlot(                        \"4c2d6b96-2dcd-419b-8978-8cbdb8e88981\",                        [{\"name\":\"User Rating\",\"x\":[4.7,4.6,4.7,4.7,4.8,4.4,4.7,4.7,4.7,4.6,4.6,4.6,4.6,4.5,4.6,4.5,4.6,4.4,4.5,4.8,4.6,4.6,3.9,4.6,4.3,4.6,4.7,4.2,4.6,4.6,4.8,4.7,4.8,4.8,4.8,4.7,4.7,4.7,4.6,4.5,4.9,4.9,4.8,4.6,4.8,4.5,4.7,4.7,4.7,4.7,4.7,4.7,4.7,4.3,4.8,4.8,4.6,4.6,4.8,4.4,4.6,4.3,4.2,4.8,4.8,4.8,4.8,4.6,4.6,4.5,4.5,4.8,4.8,4.8,4.6,4.6,4.6,4.5,4.6,4.7,4.8,4.9,4.9,4.9,4.9,4.9,4.9,4.9,4.8,4.6,4.5,4.5,4.3,4.5,4.5,4.7,4.7,4.7,4.7,4.7,4.6,4.6,4.7,4.4,4.4,4.5,3.8,3.8,4.5,4.2,4.7,4.7,4.7,4.7,4.7,4.4,4.7,4.4,4.6,4.6,4.6,4.5,4.6,4.8,4.8,4.8,4.8,4.8,4.6,4.6,4.6,4.6,3.6,4.8,4.6,4.0,4.0,4.0,4.6,4.5,4.5,4.5,4.5,4.8,4.8,4.8,4.9,4.9,4.6,4.4,4.8,4.9,4.8,4.9,4.0,4.9,4.9,4.9,4.7,4.8,4.8,4.7,4.7,4.4,4.4,4.8,4.7,4.7,4.7,4.7,4.7,4.3,4.8,4.8,4.9,4.7,4.8,4.6,4.8,4.8,4.3,4.4,4.1,4.6,4.4,4.4,4.8,4.9,4.9,4.9,4.9,4.9,4.9,4.6,4.5,4.6,4.5,4.6,4.7,4.7,4.6,4.6,4.8,4.8,4.5,4.5,4.5,4.9,4.6,4.6,4.6,4.6,4.6,4.5,4.5,4.4,4.8,4.5,4.1,4.9,4.5,4.5,4.2,4.8,4.8,4.8,4.5,4.7,4.8,4.7,4.7,4.7,4.4,4.6,4.6,4.6,4.5,4.5,4.5,4.8,4.8,4.6,4.7,4.6,4.9,4.9,4.9,4.9,4.9,4.9,4.9,4.9,4.9,4.8,4.2,4.6,4.6,4.5,4.3,4.6,4.6,4.6,4.7,4.7,4.8,4.8,4.8,4.8,4.7,4.3,4.3,4.5,4.5,4.5,4.5,4.5,4.5,4.5,4.5,4.5,4.5,4.8,4.6,4.6,4.7,4.7,4.6,4.6,4.9,4.9,4.8,4.8,4.6,4.8,4.8,4.7,4.7,4.8,4.1,4.7,4.6,4.6,4.6,4.9,4.0,4.0,4.0,4.0,4.0,4.0,4.0,4.0,4.0,4.5,4.6,4.5,4.4,4.4,4.3,4.3,4.7,4.7,4.7,4.7,4.7,4.8,4.8,4.8,4.8,4.8,4.8,4.6,4.6,4.6,4.6,4.7,4.7,4.7,4.7,4.6,4.7,4.7,4.7,4.8,4.2,4.8,4.7,4.6,4.6,4.8,4.8,4.8,4.8,3.3,4.7,4.3,4.3,4.3,4.8,4.4,4.8,4.8,4.8,4.1,4.0,4.7,4.7,4.7,4.7,4.6,4.6,4.6,4.6,4.6,4.6,4.7,4.7,4.7,4.7,4.7,4.7,4.8,4.1,4.1,4.7,4.7,4.7,4.7,4.4,4.4,4.8,4.8,3.9,3.9,4.4,4.4,4.4,4.5,4.7,4.3,4.6,4.8,4.8,4.8,4.8,4.8,4.8,4.7,4.7,4.7,4.8,4.8,4.7,4.7,4.7,4.3,4.3,4.7,4.8,4.8,4.9,4.4,4.4,4.5,4.5,4.5,4.5,4.4,4.8,4.2,4.8,4.9,4.8,4.7,4.5,4.8,4.6,4.8,4.8,4.4,4.4,4.4,4.4,4.4,4.3,4.3,4.8,4.8,4.8,4.5,4.4,4.8,4.8,4.6,4.3,4.3,4.6,4.6,4.8,4.6,4.6,4.6,4.5,4.8,4.6,4.6,4.6,4.7,4.7,4.7,4.4,4.4,4.7,4.7,4.8,4.7,4.9,4.9,4.9,4.9,4.9,4.9,4.9,4.6,4.6,4.6,4.9,4.9,4.9,4.9,4.8,4.8,4.7,4.7,4.6,4.6,4.5,4.5,4.3,4.3,4.6,4.6,4.6,4.6,4.3,4.8,4.8,4.8,4.8,4.8,4.6,4.8,4.5,4.7,4.5,4.8,4.8,4.8,4.8,4.8,4.3,4.9,4.8,4.7,4.8,4.5,4.6,4.7,4.7,4.8,4.4,4.4,4.4,4.8,4.8,4.8,4.6,4.4,4.5,4.2,4.8,4.8,4.8,4.8,4.8,4.9,4.7,4.7,4.7,4.7],\"type\":\"box\",\"marker\":{\"color\":\"steelblue\"}}],                        {\"template\":{\"data\":{\"barpolar\":[{\"marker\":{\"line\":{\"color\":\"white\",\"width\":0.5},\"pattern\":{\"fillmode\":\"overlay\",\"size\":10,\"solidity\":0.2}},\"type\":\"barpolar\"}],\"bar\":[{\"error_x\":{\"color\":\"rgb(36,36,36)\"},\"error_y\":{\"color\":\"rgb(36,36,36)\"},\"marker\":{\"line\":{\"color\":\"white\",\"width\":0.5},\"pattern\":{\"fillmode\":\"overlay\",\"size\":10,\"solidity\":0.2}},\"type\":\"bar\"}],\"carpet\":[{\"aaxis\":{\"endlinecolor\":\"rgb(36,36,36)\",\"gridcolor\":\"white\",\"linecolor\":\"white\",\"minorgridcolor\":\"white\",\"startlinecolor\":\"rgb(36,36,36)\"},\"baxis\":{\"endlinecolor\":\"rgb(36,36,36)\",\"gridcolor\":\"white\",\"linecolor\":\"white\",\"minorgridcolor\":\"white\",\"startlinecolor\":\"rgb(36,36,36)\"},\"type\":\"carpet\"}],\"choropleth\":[{\"colorbar\":{\"outlinewidth\":1,\"tickcolor\":\"rgb(36,36,36)\",\"ticks\":\"outside\"},\"type\":\"choropleth\"}],\"contourcarpet\":[{\"colorbar\":{\"outlinewidth\":1,\"tickcolor\":\"rgb(36,36,36)\",\"ticks\":\"outside\"},\"type\":\"contourcarpet\"}],\"contour\":[{\"colorbar\":{\"outlinewidth\":1,\"tickcolor\":\"rgb(36,36,36)\",\"ticks\":\"outside\"},\"colorscale\":[[0.0,\"#440154\"],[0.1111111111111111,\"#482878\"],[0.2222222222222222,\"#3e4989\"],[0.3333333333333333,\"#31688e\"],[0.4444444444444444,\"#26828e\"],[0.5555555555555556,\"#1f9e89\"],[0.6666666666666666,\"#35b779\"],[0.7777777777777778,\"#6ece58\"],[0.8888888888888888,\"#b5de2b\"],[1.0,\"#fde725\"]],\"type\":\"contour\"}],\"heatmapgl\":[{\"colorbar\":{\"outlinewidth\":1,\"tickcolor\":\"rgb(36,36,36)\",\"ticks\":\"outside\"},\"colorscale\":[[0.0,\"#440154\"],[0.1111111111111111,\"#482878\"],[0.2222222222222222,\"#3e4989\"],[0.3333333333333333,\"#31688e\"],[0.4444444444444444,\"#26828e\"],[0.5555555555555556,\"#1f9e89\"],[0.6666666666666666,\"#35b779\"],[0.7777777777777778,\"#6ece58\"],[0.8888888888888888,\"#b5de2b\"],[1.0,\"#fde725\"]],\"type\":\"heatmapgl\"}],\"heatmap\":[{\"colorbar\":{\"outlinewidth\":1,\"tickcolor\":\"rgb(36,36,36)\",\"ticks\":\"outside\"},\"colorscale\":[[0.0,\"#440154\"],[0.1111111111111111,\"#482878\"],[0.2222222222222222,\"#3e4989\"],[0.3333333333333333,\"#31688e\"],[0.4444444444444444,\"#26828e\"],[0.5555555555555556,\"#1f9e89\"],[0.6666666666666666,\"#35b779\"],[0.7777777777777778,\"#6ece58\"],[0.8888888888888888,\"#b5de2b\"],[1.0,\"#fde725\"]],\"type\":\"heatmap\"}],\"histogram2dcontour\":[{\"colorbar\":{\"outlinewidth\":1,\"tickcolor\":\"rgb(36,36,36)\",\"ticks\":\"outside\"},\"colorscale\":[[0.0,\"#440154\"],[0.1111111111111111,\"#482878\"],[0.2222222222222222,\"#3e4989\"],[0.3333333333333333,\"#31688e\"],[0.4444444444444444,\"#26828e\"],[0.5555555555555556,\"#1f9e89\"],[0.6666666666666666,\"#35b779\"],[0.7777777777777778,\"#6ece58\"],[0.8888888888888888,\"#b5de2b\"],[1.0,\"#fde725\"]],\"type\":\"histogram2dcontour\"}],\"histogram2d\":[{\"colorbar\":{\"outlinewidth\":1,\"tickcolor\":\"rgb(36,36,36)\",\"ticks\":\"outside\"},\"colorscale\":[[0.0,\"#440154\"],[0.1111111111111111,\"#482878\"],[0.2222222222222222,\"#3e4989\"],[0.3333333333333333,\"#31688e\"],[0.4444444444444444,\"#26828e\"],[0.5555555555555556,\"#1f9e89\"],[0.6666666666666666,\"#35b779\"],[0.7777777777777778,\"#6ece58\"],[0.8888888888888888,\"#b5de2b\"],[1.0,\"#fde725\"]],\"type\":\"histogram2d\"}],\"histogram\":[{\"marker\":{\"line\":{\"color\":\"white\",\"width\":0.6}},\"type\":\"histogram\"}],\"mesh3d\":[{\"colorbar\":{\"outlinewidth\":1,\"tickcolor\":\"rgb(36,36,36)\",\"ticks\":\"outside\"},\"type\":\"mesh3d\"}],\"parcoords\":[{\"line\":{\"colorbar\":{\"outlinewidth\":1,\"tickcolor\":\"rgb(36,36,36)\",\"ticks\":\"outside\"}},\"type\":\"parcoords\"}],\"pie\":[{\"automargin\":true,\"type\":\"pie\"}],\"scatter3d\":[{\"line\":{\"colorbar\":{\"outlinewidth\":1,\"tickcolor\":\"rgb(36,36,36)\",\"ticks\":\"outside\"}},\"marker\":{\"colorbar\":{\"outlinewidth\":1,\"tickcolor\":\"rgb(36,36,36)\",\"ticks\":\"outside\"}},\"type\":\"scatter3d\"}],\"scattercarpet\":[{\"marker\":{\"colorbar\":{\"outlinewidth\":1,\"tickcolor\":\"rgb(36,36,36)\",\"ticks\":\"outside\"}},\"type\":\"scattercarpet\"}],\"scattergeo\":[{\"marker\":{\"colorbar\":{\"outlinewidth\":1,\"tickcolor\":\"rgb(36,36,36)\",\"ticks\":\"outside\"}},\"type\":\"scattergeo\"}],\"scattergl\":[{\"marker\":{\"colorbar\":{\"outlinewidth\":1,\"tickcolor\":\"rgb(36,36,36)\",\"ticks\":\"outside\"}},\"type\":\"scattergl\"}],\"scattermapbox\":[{\"marker\":{\"colorbar\":{\"outlinewidth\":1,\"tickcolor\":\"rgb(36,36,36)\",\"ticks\":\"outside\"}},\"type\":\"scattermapbox\"}],\"scatterpolargl\":[{\"marker\":{\"colorbar\":{\"outlinewidth\":1,\"tickcolor\":\"rgb(36,36,36)\",\"ticks\":\"outside\"}},\"type\":\"scatterpolargl\"}],\"scatterpolar\":[{\"marker\":{\"colorbar\":{\"outlinewidth\":1,\"tickcolor\":\"rgb(36,36,36)\",\"ticks\":\"outside\"}},\"type\":\"scatterpolar\"}],\"scatter\":[{\"marker\":{\"colorbar\":{\"outlinewidth\":1,\"tickcolor\":\"rgb(36,36,36)\",\"ticks\":\"outside\"}},\"type\":\"scatter\"}],\"scatterternary\":[{\"marker\":{\"colorbar\":{\"outlinewidth\":1,\"tickcolor\":\"rgb(36,36,36)\",\"ticks\":\"outside\"}},\"type\":\"scatterternary\"}],\"surface\":[{\"colorbar\":{\"outlinewidth\":1,\"tickcolor\":\"rgb(36,36,36)\",\"ticks\":\"outside\"},\"colorscale\":[[0.0,\"#440154\"],[0.1111111111111111,\"#482878\"],[0.2222222222222222,\"#3e4989\"],[0.3333333333333333,\"#31688e\"],[0.4444444444444444,\"#26828e\"],[0.5555555555555556,\"#1f9e89\"],[0.6666666666666666,\"#35b779\"],[0.7777777777777778,\"#6ece58\"],[0.8888888888888888,\"#b5de2b\"],[1.0,\"#fde725\"]],\"type\":\"surface\"}],\"table\":[{\"cells\":{\"fill\":{\"color\":\"rgb(237,237,237)\"},\"line\":{\"color\":\"white\"}},\"header\":{\"fill\":{\"color\":\"rgb(217,217,217)\"},\"line\":{\"color\":\"white\"}},\"type\":\"table\"}]},\"layout\":{\"annotationdefaults\":{\"arrowhead\":0,\"arrowwidth\":1},\"autotypenumbers\":\"strict\",\"coloraxis\":{\"colorbar\":{\"outlinewidth\":1,\"tickcolor\":\"rgb(36,36,36)\",\"ticks\":\"outside\"}},\"colorscale\":{\"diverging\":[[0.0,\"rgb(103,0,31)\"],[0.1,\"rgb(178,24,43)\"],[0.2,\"rgb(214,96,77)\"],[0.3,\"rgb(244,165,130)\"],[0.4,\"rgb(253,219,199)\"],[0.5,\"rgb(247,247,247)\"],[0.6,\"rgb(209,229,240)\"],[0.7,\"rgb(146,197,222)\"],[0.8,\"rgb(67,147,195)\"],[0.9,\"rgb(33,102,172)\"],[1.0,\"rgb(5,48,97)\"]],\"sequential\":[[0.0,\"#440154\"],[0.1111111111111111,\"#482878\"],[0.2222222222222222,\"#3e4989\"],[0.3333333333333333,\"#31688e\"],[0.4444444444444444,\"#26828e\"],[0.5555555555555556,\"#1f9e89\"],[0.6666666666666666,\"#35b779\"],[0.7777777777777778,\"#6ece58\"],[0.8888888888888888,\"#b5de2b\"],[1.0,\"#fde725\"]],\"sequentialminus\":[[0.0,\"#440154\"],[0.1111111111111111,\"#482878\"],[0.2222222222222222,\"#3e4989\"],[0.3333333333333333,\"#31688e\"],[0.4444444444444444,\"#26828e\"],[0.5555555555555556,\"#1f9e89\"],[0.6666666666666666,\"#35b779\"],[0.7777777777777778,\"#6ece58\"],[0.8888888888888888,\"#b5de2b\"],[1.0,\"#fde725\"]]},\"colorway\":[\"#1F77B4\",\"#FF7F0E\",\"#2CA02C\",\"#D62728\",\"#9467BD\",\"#8C564B\",\"#E377C2\",\"#7F7F7F\",\"#BCBD22\",\"#17BECF\"],\"font\":{\"color\":\"rgb(36,36,36)\"},\"geo\":{\"bgcolor\":\"white\",\"lakecolor\":\"white\",\"landcolor\":\"white\",\"showlakes\":true,\"showland\":true,\"subunitcolor\":\"white\"},\"hoverlabel\":{\"align\":\"left\"},\"hovermode\":\"closest\",\"mapbox\":{\"style\":\"light\"},\"paper_bgcolor\":\"white\",\"plot_bgcolor\":\"white\",\"polar\":{\"angularaxis\":{\"gridcolor\":\"rgb(232,232,232)\",\"linecolor\":\"rgb(36,36,36)\",\"showgrid\":false,\"showline\":true,\"ticks\":\"outside\"},\"bgcolor\":\"white\",\"radialaxis\":{\"gridcolor\":\"rgb(232,232,232)\",\"linecolor\":\"rgb(36,36,36)\",\"showgrid\":false,\"showline\":true,\"ticks\":\"outside\"}},\"scene\":{\"xaxis\":{\"backgroundcolor\":\"white\",\"gridcolor\":\"rgb(232,232,232)\",\"gridwidth\":2,\"linecolor\":\"rgb(36,36,36)\",\"showbackground\":true,\"showgrid\":false,\"showline\":true,\"ticks\":\"outside\",\"zeroline\":false,\"zerolinecolor\":\"rgb(36,36,36)\"},\"yaxis\":{\"backgroundcolor\":\"white\",\"gridcolor\":\"rgb(232,232,232)\",\"gridwidth\":2,\"linecolor\":\"rgb(36,36,36)\",\"showbackground\":true,\"showgrid\":false,\"showline\":true,\"ticks\":\"outside\",\"zeroline\":false,\"zerolinecolor\":\"rgb(36,36,36)\"},\"zaxis\":{\"backgroundcolor\":\"white\",\"gridcolor\":\"rgb(232,232,232)\",\"gridwidth\":2,\"linecolor\":\"rgb(36,36,36)\",\"showbackground\":true,\"showgrid\":false,\"showline\":true,\"ticks\":\"outside\",\"zeroline\":false,\"zerolinecolor\":\"rgb(36,36,36)\"}},\"shapedefaults\":{\"fillcolor\":\"black\",\"line\":{\"width\":0},\"opacity\":0.3},\"ternary\":{\"aaxis\":{\"gridcolor\":\"rgb(232,232,232)\",\"linecolor\":\"rgb(36,36,36)\",\"showgrid\":false,\"showline\":true,\"ticks\":\"outside\"},\"baxis\":{\"gridcolor\":\"rgb(232,232,232)\",\"linecolor\":\"rgb(36,36,36)\",\"showgrid\":false,\"showline\":true,\"ticks\":\"outside\"},\"bgcolor\":\"white\",\"caxis\":{\"gridcolor\":\"rgb(232,232,232)\",\"linecolor\":\"rgb(36,36,36)\",\"showgrid\":false,\"showline\":true,\"ticks\":\"outside\"}},\"title\":{\"x\":0.05},\"xaxis\":{\"automargin\":true,\"gridcolor\":\"rgb(232,232,232)\",\"linecolor\":\"rgb(36,36,36)\",\"showgrid\":false,\"showline\":true,\"ticks\":\"outside\",\"title\":{\"standoff\":15},\"zeroline\":false,\"zerolinecolor\":\"rgb(36,36,36)\"},\"yaxis\":{\"automargin\":true,\"gridcolor\":\"rgb(232,232,232)\",\"linecolor\":\"rgb(36,36,36)\",\"showgrid\":false,\"showline\":true,\"ticks\":\"outside\",\"title\":{\"standoff\":15},\"zeroline\":false,\"zerolinecolor\":\"rgb(36,36,36)\"}}},\"xaxis\":{\"anchor\":\"y\",\"domain\":[0.0,1.0]},\"yaxis\":{\"anchor\":\"x\",\"domain\":[0.0,1.0]},\"font\":{\"family\":\"Arial\",\"size\":16,\"color\":\"black\"},\"showlegend\":false},                        {\"responsive\": true}                    ).then(function(){\n",
       "                            \n",
       "var gd = document.getElementById('4c2d6b96-2dcd-419b-8978-8cbdb8e88981');\n",
       "var x = new MutationObserver(function (mutations, observer) {{\n",
       "        var display = window.getComputedStyle(gd).display;\n",
       "        if (!display || display === 'none') {{\n",
       "            console.log([gd, 'removed!']);\n",
       "            Plotly.purge(gd);\n",
       "            observer.disconnect();\n",
       "        }}\n",
       "}});\n",
       "\n",
       "// Listen for the removal of the full notebook cells\n",
       "var notebookContainer = gd.closest('#notebook-container');\n",
       "if (notebookContainer) {{\n",
       "    x.observe(notebookContainer, {childList: true});\n",
       "}}\n",
       "\n",
       "// Listen for the clearing of the current output cell\n",
       "var outputEl = gd.closest('.output');\n",
       "if (outputEl) {{\n",
       "    x.observe(outputEl, {childList: true});\n",
       "}}\n",
       "\n",
       "                        })                };                });            </script>        </div>"
      ]
     },
     "metadata": {},
     "output_type": "display_data"
    }
   ],
   "source": [
    "# Box plot for User Rating\n",
    "rating_box = make_subplots(rows=1, cols=1, specs=[[{'type': 'xy'}]])\n",
    "rating_box.add_trace(go.Box(x=df['User Rating'],name='User Rating'))\n",
    "\n",
    "rating_box.update_layout(showlegend=False, \n",
    "                    template='simple_white', \n",
    "                    font=dict(family='Arial', \n",
    "                              size=16, \n",
    "                              color='black'))\n",
    "\n",
    "rating_box.update_traces(marker_color='steelblue')\n",
    "\n",
    "rating_box.show()\n"
   ]
  },
  {
   "cell_type": "code",
   "execution_count": 21,
   "id": "c58051d5",
   "metadata": {
    "execution": {
     "iopub.execute_input": "2022-01-24T19:54:49.552344Z",
     "iopub.status.busy": "2022-01-24T19:54:49.551716Z",
     "iopub.status.idle": "2022-01-24T19:54:49.592075Z",
     "shell.execute_reply": "2022-01-24T19:54:49.592541Z",
     "shell.execute_reply.started": "2022-01-24T19:50:53.524261Z"
    },
    "papermill": {
     "duration": 0.068887,
     "end_time": "2022-01-24T19:54:49.592761",
     "exception": false,
     "start_time": "2022-01-24T19:54:49.523874",
     "status": "completed"
    },
    "tags": []
   },
   "outputs": [
    {
     "data": {
      "text/html": [
       "<div>                            <div id=\"4f5b122c-389f-4e37-9085-369d1bebb047\" class=\"plotly-graph-div\" style=\"height:525px; width:100%;\"></div>            <script type=\"text/javascript\">                require([\"plotly\"], function(Plotly) {                    window.PLOTLYENV=window.PLOTLYENV || {};                                    if (document.getElementById(\"4f5b122c-389f-4e37-9085-369d1bebb047\")) {                    Plotly.newPlot(                        \"4f5b122c-389f-4e37-9085-369d1bebb047\",                        [{\"name\":\"\",\"x\":[8,22,15,6,12,11,30,15,3,8,8,2,32,5,17,4,6,6,8,13,14,14,13,9,13,5,9,14,5,11,24,21,11,11,15,13,13,18,13,8,5,5,0,4,18,28,11,11,11,16,14,14,14,8,4,5,11,11,10,13,4,8,4,5,5,5,5,17,15,105,105,0,15,22,5,15,15,6,6,13,12,6,8,4,4,8,8,6,20,5,16,1,14,9,9,7,18,15,15,9,8,8,15,2,7,11,14,14,32,6,4,4,4,4,4,9,0,9,5,5,5,20,16,4,4,4,4,4,12,12,12,11,19,9,6,10,10,9,6,14,14,14,14,5,5,5,7,7,10,14,7,54,11,30,12,18,30,22,9,52,4,10,10,14,14,22,11,11,11,11,11,16,15,15,17,17,7,7,4,4,9,21,14,20,13,13,12,8,8,8,8,8,8,0,12,17,12,25,10,10,6,5,6,8,4,4,4,13,4,4,4,4,4,13,21,6,15,18,10,0,12,7,13,5,5,16,20,11,27,8,8,8,6,10,10,10,8,8,8,16,11,10,9,14,22,8,8,8,8,8,8,8,8,7,12,13,13,9,13,11,20,20,5,5,2,27,27,27,9,10,10,46,46,46,46,46,46,46,46,46,46,4,20,7,9,9,12,12,12,12,20,20,10,6,6,9,11,16,6,25,17,20,20,6,17,17,17,17,17,17,17,17,17,18,13,18,20,20,22,21,28,28,28,28,28,8,8,8,8,8,12,24,24,24,24,16,16,16,39,9,10,10,17,11,14,12,53,6,6,8,8,12,12,12,21,6,6,13,0,11,9,9,9,15,11,13,13,7,13,6,6,6,6,6,9,6,6,6,6,6,6,0,18,7,14,14,9,16,2,2,5,5,20,20,7,7,7,14,10,7,13,11,6,6,8,7,14,14,8,8,30,30,13,9,9,7,7,9,7,7,20,13,13,11,11,11,11,18,14,19,13,5,10,9,8,8,12,11,11,40,40,40,40,40,36,16,17,14,21,18,17,5,5,21,18,18,12,14,12,8,8,0,14,10,15,15,15,9,7,10,6,9,10,82,12,10,5,5,5,5,5,5,5,16,16,16,10,10,10,10,4,4,16,15,19,19,9,23,11,11,23,23,23,23,12,0,0,0,0,7,21,21,15,9,5,16,16,16,13,16,20,11,4,9,42,12,18,17,14,13,9,6,6,14,15,13,12,18,15,11,9,9,9,9,9,8,8,8,8,8],\"type\":\"box\",\"marker\":{\"color\":\"steelblue\"}}],                        {\"template\":{\"data\":{\"barpolar\":[{\"marker\":{\"line\":{\"color\":\"white\",\"width\":0.5},\"pattern\":{\"fillmode\":\"overlay\",\"size\":10,\"solidity\":0.2}},\"type\":\"barpolar\"}],\"bar\":[{\"error_x\":{\"color\":\"rgb(36,36,36)\"},\"error_y\":{\"color\":\"rgb(36,36,36)\"},\"marker\":{\"line\":{\"color\":\"white\",\"width\":0.5},\"pattern\":{\"fillmode\":\"overlay\",\"size\":10,\"solidity\":0.2}},\"type\":\"bar\"}],\"carpet\":[{\"aaxis\":{\"endlinecolor\":\"rgb(36,36,36)\",\"gridcolor\":\"white\",\"linecolor\":\"white\",\"minorgridcolor\":\"white\",\"startlinecolor\":\"rgb(36,36,36)\"},\"baxis\":{\"endlinecolor\":\"rgb(36,36,36)\",\"gridcolor\":\"white\",\"linecolor\":\"white\",\"minorgridcolor\":\"white\",\"startlinecolor\":\"rgb(36,36,36)\"},\"type\":\"carpet\"}],\"choropleth\":[{\"colorbar\":{\"outlinewidth\":1,\"tickcolor\":\"rgb(36,36,36)\",\"ticks\":\"outside\"},\"type\":\"choropleth\"}],\"contourcarpet\":[{\"colorbar\":{\"outlinewidth\":1,\"tickcolor\":\"rgb(36,36,36)\",\"ticks\":\"outside\"},\"type\":\"contourcarpet\"}],\"contour\":[{\"colorbar\":{\"outlinewidth\":1,\"tickcolor\":\"rgb(36,36,36)\",\"ticks\":\"outside\"},\"colorscale\":[[0.0,\"#440154\"],[0.1111111111111111,\"#482878\"],[0.2222222222222222,\"#3e4989\"],[0.3333333333333333,\"#31688e\"],[0.4444444444444444,\"#26828e\"],[0.5555555555555556,\"#1f9e89\"],[0.6666666666666666,\"#35b779\"],[0.7777777777777778,\"#6ece58\"],[0.8888888888888888,\"#b5de2b\"],[1.0,\"#fde725\"]],\"type\":\"contour\"}],\"heatmapgl\":[{\"colorbar\":{\"outlinewidth\":1,\"tickcolor\":\"rgb(36,36,36)\",\"ticks\":\"outside\"},\"colorscale\":[[0.0,\"#440154\"],[0.1111111111111111,\"#482878\"],[0.2222222222222222,\"#3e4989\"],[0.3333333333333333,\"#31688e\"],[0.4444444444444444,\"#26828e\"],[0.5555555555555556,\"#1f9e89\"],[0.6666666666666666,\"#35b779\"],[0.7777777777777778,\"#6ece58\"],[0.8888888888888888,\"#b5de2b\"],[1.0,\"#fde725\"]],\"type\":\"heatmapgl\"}],\"heatmap\":[{\"colorbar\":{\"outlinewidth\":1,\"tickcolor\":\"rgb(36,36,36)\",\"ticks\":\"outside\"},\"colorscale\":[[0.0,\"#440154\"],[0.1111111111111111,\"#482878\"],[0.2222222222222222,\"#3e4989\"],[0.3333333333333333,\"#31688e\"],[0.4444444444444444,\"#26828e\"],[0.5555555555555556,\"#1f9e89\"],[0.6666666666666666,\"#35b779\"],[0.7777777777777778,\"#6ece58\"],[0.8888888888888888,\"#b5de2b\"],[1.0,\"#fde725\"]],\"type\":\"heatmap\"}],\"histogram2dcontour\":[{\"colorbar\":{\"outlinewidth\":1,\"tickcolor\":\"rgb(36,36,36)\",\"ticks\":\"outside\"},\"colorscale\":[[0.0,\"#440154\"],[0.1111111111111111,\"#482878\"],[0.2222222222222222,\"#3e4989\"],[0.3333333333333333,\"#31688e\"],[0.4444444444444444,\"#26828e\"],[0.5555555555555556,\"#1f9e89\"],[0.6666666666666666,\"#35b779\"],[0.7777777777777778,\"#6ece58\"],[0.8888888888888888,\"#b5de2b\"],[1.0,\"#fde725\"]],\"type\":\"histogram2dcontour\"}],\"histogram2d\":[{\"colorbar\":{\"outlinewidth\":1,\"tickcolor\":\"rgb(36,36,36)\",\"ticks\":\"outside\"},\"colorscale\":[[0.0,\"#440154\"],[0.1111111111111111,\"#482878\"],[0.2222222222222222,\"#3e4989\"],[0.3333333333333333,\"#31688e\"],[0.4444444444444444,\"#26828e\"],[0.5555555555555556,\"#1f9e89\"],[0.6666666666666666,\"#35b779\"],[0.7777777777777778,\"#6ece58\"],[0.8888888888888888,\"#b5de2b\"],[1.0,\"#fde725\"]],\"type\":\"histogram2d\"}],\"histogram\":[{\"marker\":{\"line\":{\"color\":\"white\",\"width\":0.6}},\"type\":\"histogram\"}],\"mesh3d\":[{\"colorbar\":{\"outlinewidth\":1,\"tickcolor\":\"rgb(36,36,36)\",\"ticks\":\"outside\"},\"type\":\"mesh3d\"}],\"parcoords\":[{\"line\":{\"colorbar\":{\"outlinewidth\":1,\"tickcolor\":\"rgb(36,36,36)\",\"ticks\":\"outside\"}},\"type\":\"parcoords\"}],\"pie\":[{\"automargin\":true,\"type\":\"pie\"}],\"scatter3d\":[{\"line\":{\"colorbar\":{\"outlinewidth\":1,\"tickcolor\":\"rgb(36,36,36)\",\"ticks\":\"outside\"}},\"marker\":{\"colorbar\":{\"outlinewidth\":1,\"tickcolor\":\"rgb(36,36,36)\",\"ticks\":\"outside\"}},\"type\":\"scatter3d\"}],\"scattercarpet\":[{\"marker\":{\"colorbar\":{\"outlinewidth\":1,\"tickcolor\":\"rgb(36,36,36)\",\"ticks\":\"outside\"}},\"type\":\"scattercarpet\"}],\"scattergeo\":[{\"marker\":{\"colorbar\":{\"outlinewidth\":1,\"tickcolor\":\"rgb(36,36,36)\",\"ticks\":\"outside\"}},\"type\":\"scattergeo\"}],\"scattergl\":[{\"marker\":{\"colorbar\":{\"outlinewidth\":1,\"tickcolor\":\"rgb(36,36,36)\",\"ticks\":\"outside\"}},\"type\":\"scattergl\"}],\"scattermapbox\":[{\"marker\":{\"colorbar\":{\"outlinewidth\":1,\"tickcolor\":\"rgb(36,36,36)\",\"ticks\":\"outside\"}},\"type\":\"scattermapbox\"}],\"scatterpolargl\":[{\"marker\":{\"colorbar\":{\"outlinewidth\":1,\"tickcolor\":\"rgb(36,36,36)\",\"ticks\":\"outside\"}},\"type\":\"scatterpolargl\"}],\"scatterpolar\":[{\"marker\":{\"colorbar\":{\"outlinewidth\":1,\"tickcolor\":\"rgb(36,36,36)\",\"ticks\":\"outside\"}},\"type\":\"scatterpolar\"}],\"scatter\":[{\"marker\":{\"colorbar\":{\"outlinewidth\":1,\"tickcolor\":\"rgb(36,36,36)\",\"ticks\":\"outside\"}},\"type\":\"scatter\"}],\"scatterternary\":[{\"marker\":{\"colorbar\":{\"outlinewidth\":1,\"tickcolor\":\"rgb(36,36,36)\",\"ticks\":\"outside\"}},\"type\":\"scatterternary\"}],\"surface\":[{\"colorbar\":{\"outlinewidth\":1,\"tickcolor\":\"rgb(36,36,36)\",\"ticks\":\"outside\"},\"colorscale\":[[0.0,\"#440154\"],[0.1111111111111111,\"#482878\"],[0.2222222222222222,\"#3e4989\"],[0.3333333333333333,\"#31688e\"],[0.4444444444444444,\"#26828e\"],[0.5555555555555556,\"#1f9e89\"],[0.6666666666666666,\"#35b779\"],[0.7777777777777778,\"#6ece58\"],[0.8888888888888888,\"#b5de2b\"],[1.0,\"#fde725\"]],\"type\":\"surface\"}],\"table\":[{\"cells\":{\"fill\":{\"color\":\"rgb(237,237,237)\"},\"line\":{\"color\":\"white\"}},\"header\":{\"fill\":{\"color\":\"rgb(217,217,217)\"},\"line\":{\"color\":\"white\"}},\"type\":\"table\"}]},\"layout\":{\"annotationdefaults\":{\"arrowhead\":0,\"arrowwidth\":1},\"autotypenumbers\":\"strict\",\"coloraxis\":{\"colorbar\":{\"outlinewidth\":1,\"tickcolor\":\"rgb(36,36,36)\",\"ticks\":\"outside\"}},\"colorscale\":{\"diverging\":[[0.0,\"rgb(103,0,31)\"],[0.1,\"rgb(178,24,43)\"],[0.2,\"rgb(214,96,77)\"],[0.3,\"rgb(244,165,130)\"],[0.4,\"rgb(253,219,199)\"],[0.5,\"rgb(247,247,247)\"],[0.6,\"rgb(209,229,240)\"],[0.7,\"rgb(146,197,222)\"],[0.8,\"rgb(67,147,195)\"],[0.9,\"rgb(33,102,172)\"],[1.0,\"rgb(5,48,97)\"]],\"sequential\":[[0.0,\"#440154\"],[0.1111111111111111,\"#482878\"],[0.2222222222222222,\"#3e4989\"],[0.3333333333333333,\"#31688e\"],[0.4444444444444444,\"#26828e\"],[0.5555555555555556,\"#1f9e89\"],[0.6666666666666666,\"#35b779\"],[0.7777777777777778,\"#6ece58\"],[0.8888888888888888,\"#b5de2b\"],[1.0,\"#fde725\"]],\"sequentialminus\":[[0.0,\"#440154\"],[0.1111111111111111,\"#482878\"],[0.2222222222222222,\"#3e4989\"],[0.3333333333333333,\"#31688e\"],[0.4444444444444444,\"#26828e\"],[0.5555555555555556,\"#1f9e89\"],[0.6666666666666666,\"#35b779\"],[0.7777777777777778,\"#6ece58\"],[0.8888888888888888,\"#b5de2b\"],[1.0,\"#fde725\"]]},\"colorway\":[\"#1F77B4\",\"#FF7F0E\",\"#2CA02C\",\"#D62728\",\"#9467BD\",\"#8C564B\",\"#E377C2\",\"#7F7F7F\",\"#BCBD22\",\"#17BECF\"],\"font\":{\"color\":\"rgb(36,36,36)\"},\"geo\":{\"bgcolor\":\"white\",\"lakecolor\":\"white\",\"landcolor\":\"white\",\"showlakes\":true,\"showland\":true,\"subunitcolor\":\"white\"},\"hoverlabel\":{\"align\":\"left\"},\"hovermode\":\"closest\",\"mapbox\":{\"style\":\"light\"},\"paper_bgcolor\":\"white\",\"plot_bgcolor\":\"white\",\"polar\":{\"angularaxis\":{\"gridcolor\":\"rgb(232,232,232)\",\"linecolor\":\"rgb(36,36,36)\",\"showgrid\":false,\"showline\":true,\"ticks\":\"outside\"},\"bgcolor\":\"white\",\"radialaxis\":{\"gridcolor\":\"rgb(232,232,232)\",\"linecolor\":\"rgb(36,36,36)\",\"showgrid\":false,\"showline\":true,\"ticks\":\"outside\"}},\"scene\":{\"xaxis\":{\"backgroundcolor\":\"white\",\"gridcolor\":\"rgb(232,232,232)\",\"gridwidth\":2,\"linecolor\":\"rgb(36,36,36)\",\"showbackground\":true,\"showgrid\":false,\"showline\":true,\"ticks\":\"outside\",\"zeroline\":false,\"zerolinecolor\":\"rgb(36,36,36)\"},\"yaxis\":{\"backgroundcolor\":\"white\",\"gridcolor\":\"rgb(232,232,232)\",\"gridwidth\":2,\"linecolor\":\"rgb(36,36,36)\",\"showbackground\":true,\"showgrid\":false,\"showline\":true,\"ticks\":\"outside\",\"zeroline\":false,\"zerolinecolor\":\"rgb(36,36,36)\"},\"zaxis\":{\"backgroundcolor\":\"white\",\"gridcolor\":\"rgb(232,232,232)\",\"gridwidth\":2,\"linecolor\":\"rgb(36,36,36)\",\"showbackground\":true,\"showgrid\":false,\"showline\":true,\"ticks\":\"outside\",\"zeroline\":false,\"zerolinecolor\":\"rgb(36,36,36)\"}},\"shapedefaults\":{\"fillcolor\":\"black\",\"line\":{\"width\":0},\"opacity\":0.3},\"ternary\":{\"aaxis\":{\"gridcolor\":\"rgb(232,232,232)\",\"linecolor\":\"rgb(36,36,36)\",\"showgrid\":false,\"showline\":true,\"ticks\":\"outside\"},\"baxis\":{\"gridcolor\":\"rgb(232,232,232)\",\"linecolor\":\"rgb(36,36,36)\",\"showgrid\":false,\"showline\":true,\"ticks\":\"outside\"},\"bgcolor\":\"white\",\"caxis\":{\"gridcolor\":\"rgb(232,232,232)\",\"linecolor\":\"rgb(36,36,36)\",\"showgrid\":false,\"showline\":true,\"ticks\":\"outside\"}},\"title\":{\"x\":0.05},\"xaxis\":{\"automargin\":true,\"gridcolor\":\"rgb(232,232,232)\",\"linecolor\":\"rgb(36,36,36)\",\"showgrid\":false,\"showline\":true,\"ticks\":\"outside\",\"title\":{\"standoff\":15},\"zeroline\":false,\"zerolinecolor\":\"rgb(36,36,36)\"},\"yaxis\":{\"automargin\":true,\"gridcolor\":\"rgb(232,232,232)\",\"linecolor\":\"rgb(36,36,36)\",\"showgrid\":false,\"showline\":true,\"ticks\":\"outside\",\"title\":{\"standoff\":15},\"zeroline\":false,\"zerolinecolor\":\"rgb(36,36,36)\"}}},\"xaxis\":{\"anchor\":\"y\",\"domain\":[0.0,1.0]},\"yaxis\":{\"anchor\":\"x\",\"domain\":[0.0,1.0]},\"font\":{\"family\":\"Arial\",\"size\":16,\"color\":\"black\"},\"showlegend\":false},                        {\"responsive\": true}                    ).then(function(){\n",
       "                            \n",
       "var gd = document.getElementById('4f5b122c-389f-4e37-9085-369d1bebb047');\n",
       "var x = new MutationObserver(function (mutations, observer) {{\n",
       "        var display = window.getComputedStyle(gd).display;\n",
       "        if (!display || display === 'none') {{\n",
       "            console.log([gd, 'removed!']);\n",
       "            Plotly.purge(gd);\n",
       "            observer.disconnect();\n",
       "        }}\n",
       "}});\n",
       "\n",
       "// Listen for the removal of the full notebook cells\n",
       "var notebookContainer = gd.closest('#notebook-container');\n",
       "if (notebookContainer) {{\n",
       "    x.observe(notebookContainer, {childList: true});\n",
       "}}\n",
       "\n",
       "// Listen for the clearing of the current output cell\n",
       "var outputEl = gd.closest('.output');\n",
       "if (outputEl) {{\n",
       "    x.observe(outputEl, {childList: true});\n",
       "}}\n",
       "\n",
       "                        })                };                });            </script>        </div>"
      ]
     },
     "metadata": {},
     "output_type": "display_data"
    }
   ],
   "source": [
    "\n",
    "#Box plot for Price\n",
    "price_box = make_subplots(rows=1, cols=1, specs=[[{'type': 'xy'}]])\n",
    "\n",
    "price_box.add_trace(go.Box(x=df['Price'],name=''))\n",
    "\n",
    "price_box.update_traces(marker_color='steelblue')\n",
    "\n",
    "price_box.update_layout(showlegend=False, \n",
    "                    template='simple_white', \n",
    "                    font=dict(family='Arial', \n",
    "                              size=16, \n",
    "                              color='black'))\n",
    "\n",
    "price_box.show()"
   ]
  },
  {
   "cell_type": "code",
   "execution_count": 22,
   "id": "b5625672",
   "metadata": {
    "execution": {
     "iopub.execute_input": "2022-01-24T19:54:49.647957Z",
     "iopub.status.busy": "2022-01-24T19:54:49.647138Z",
     "iopub.status.idle": "2022-01-24T19:54:49.656211Z",
     "shell.execute_reply": "2022-01-24T19:54:49.656830Z",
     "shell.execute_reply.started": "2022-01-24T19:50:53.577865Z"
    },
    "papermill": {
     "duration": 0.038802,
     "end_time": "2022-01-24T19:54:49.657035",
     "exception": false,
     "start_time": "2022-01-24T19:54:49.618233",
     "status": "completed"
    },
    "tags": []
   },
   "outputs": [
    {
     "data": {
      "text/plain": [
       "4.6"
      ]
     },
     "execution_count": 22,
     "metadata": {},
     "output_type": "execute_result"
    }
   ],
   "source": [
    "#user rating of fiction vs. nonfiction\n",
    "fiction = df[df['Genre'] == 'Fiction']['User Rating']\n",
    "non_fiction = df[df['Genre'] == 'Non Fiction']['User Rating']\n",
    "\n",
    "fict_med = fiction.median()\n",
    "fict_med #4.7\n",
    "\n",
    "nf_med = non_fiction.median()\n",
    "nf_med  #4.6"
   ]
  },
  {
   "cell_type": "code",
   "execution_count": 23,
   "id": "ee6998bf",
   "metadata": {
    "execution": {
     "iopub.execute_input": "2022-01-24T19:54:49.714093Z",
     "iopub.status.busy": "2022-01-24T19:54:49.713398Z",
     "iopub.status.idle": "2022-01-24T19:54:49.805231Z",
     "shell.execute_reply": "2022-01-24T19:54:49.805750Z",
     "shell.execute_reply.started": "2022-01-24T19:50:53.589478Z"
    },
    "papermill": {
     "duration": 0.123125,
     "end_time": "2022-01-24T19:54:49.805955",
     "exception": false,
     "start_time": "2022-01-24T19:54:49.682830",
     "status": "completed"
    },
    "tags": []
   },
   "outputs": [
    {
     "data": {
      "text/html": [
       "<div>                            <div id=\"712fe2e3-9d80-4e6f-a572-d263a0832502\" class=\"plotly-graph-div\" style=\"height:525px; width:100%;\"></div>            <script type=\"text/javascript\">                require([\"plotly\"], function(Plotly) {                    window.PLOTLYENV=window.PLOTLYENV || {};                                    if (document.getElementById(\"712fe2e3-9d80-4e6f-a572-d263a0832502\")) {                    Plotly.newPlot(                        \"712fe2e3-9d80-4e6f-a572-d263a0832502\",                        [{\"autobinx\":false,\"histnorm\":\"probability density\",\"legendgroup\":\"Non_fiction\",\"marker\":{\"color\":\"steelblue\"},\"name\":\"Non_fiction\",\"opacity\":0.7,\"x\":[4.7,4.7,4.8,4.7,4.6,4.6,4.6,4.5,4.6,4.4,4.5,4.8,4.6,4.6,4.7,4.2,4.6,4.6,4.8,4.7,4.8,4.8,4.8,4.7,4.7,4.7,4.5,4.6,4.8,4.5,4.7,4.7,4.7,4.7,4.8,4.8,4.8,4.4,4.6,4.6,4.5,4.5,4.6,4.6,4.6,4.5,4.5,4.3,4.5,4.5,4.7,4.7,4.7,4.4,4.2,4.7,4.7,4.7,4.7,4.7,4.4,4.4,4.5,4.6,4.6,4.6,4.6,4.6,4.6,4.6,4.5,4.5,4.5,4.5,4.6,4.8,4.9,4.8,4.7,4.8,4.7,4.7,4.4,4.4,4.8,4.7,4.7,4.7,4.7,4.7,4.3,4.8,4.8,4.9,4.7,4.8,4.4,4.4,4.4,4.8,4.9,4.9,4.9,4.9,4.9,4.9,4.6,4.5,4.6,4.7,4.7,4.6,4.6,4.8,4.8,4.5,4.5,4.5,4.6,4.6,4.6,4.6,4.6,4.5,4.5,4.4,4.8,4.5,4.2,4.8,4.5,4.7,4.8,4.7,4.7,4.7,4.4,4.6,4.6,4.6,4.8,4.8,4.7,4.6,4.9,4.6,4.6,4.5,4.6,4.6,4.7,4.7,4.3,4.3,4.5,4.5,4.5,4.5,4.5,4.5,4.5,4.5,4.5,4.5,4.6,4.6,4.7,4.7,4.8,4.8,4.8,4.8,4.7,4.7,4.8,4.1,4.6,4.6,4.6,4.0,4.0,4.0,4.0,4.0,4.0,4.0,4.0,4.0,4.5,4.6,4.4,4.4,4.3,4.3,4.7,4.7,4.7,4.7,4.7,4.8,4.8,4.8,4.8,4.8,4.8,4.6,4.6,4.6,4.6,4.7,4.7,4.7,4.6,4.7,4.2,4.8,4.7,4.8,4.8,4.7,4.3,4.3,4.8,4.4,4.1,4.6,4.6,4.6,4.6,4.6,4.6,4.7,4.7,4.7,4.7,4.7,4.7,4.7,4.7,4.7,4.3,4.3,4.7,4.4,4.4,4.5,4.5,4.5,4.5,4.8,4.9,4.6,4.4,4.4,4.4,4.4,4.4,4.3,4.8,4.8,4.8,4.5,4.4,4.6,4.6,4.6,4.6,4.6,4.7,4.4,4.7,4.7,4.6,4.6,4.6,4.7,4.7,4.6,4.6,4.5,4.3,4.3,4.6,4.6,4.6,4.6,4.3,4.6,4.5,4.8,4.8,4.8,4.8,4.8,4.9,4.8,4.7,4.6,4.7,4.4,4.4,4.4,4.8,4.6,4.4,4.2,4.7,4.7,4.7,4.7],\"xaxis\":\"x\",\"xbins\":{\"end\":4.9,\"size\":0.1,\"start\":4.0},\"yaxis\":\"y\",\"type\":\"histogram\"},{\"autobinx\":false,\"histnorm\":\"probability density\",\"legendgroup\":\"Fiction\",\"marker\":{\"color\":\"gold\"},\"name\":\"Fiction\",\"opacity\":0.7,\"x\":[4.6,4.7,4.4,4.7,4.7,4.6,4.6,4.5,4.6,4.6,3.9,4.3,4.6,4.9,4.9,4.8,4.7,4.7,4.7,4.3,4.6,4.6,4.6,4.3,4.2,4.8,4.8,4.8,4.8,4.8,4.8,4.8,4.6,4.6,4.5,4.7,4.8,4.9,4.9,4.9,4.9,4.9,4.9,4.9,4.8,4.7,4.7,4.6,4.6,4.7,4.4,4.5,3.8,3.8,4.5,4.7,4.6,4.6,4.6,4.8,4.8,4.8,4.8,4.8,3.6,4.8,4.0,4.0,4.0,4.8,4.8,4.8,4.9,4.9,4.4,4.9,4.0,4.9,4.9,4.9,4.8,4.6,4.8,4.8,4.3,4.1,4.6,4.6,4.5,4.9,4.1,4.9,4.5,4.5,4.8,4.8,4.5,4.5,4.5,4.6,4.9,4.9,4.9,4.9,4.9,4.9,4.9,4.9,4.8,4.2,4.3,4.6,4.8,4.8,4.8,4.8,4.7,4.8,4.6,4.6,4.9,4.9,4.6,4.7,4.9,4.5,4.7,4.7,4.7,4.8,4.6,4.6,4.8,4.8,3.3,4.3,4.8,4.8,4.8,4.0,4.7,4.7,4.7,4.7,4.8,4.1,4.1,4.7,4.7,4.7,4.7,4.4,4.4,4.8,4.8,3.9,3.9,4.4,4.4,4.4,4.5,4.7,4.3,4.6,4.8,4.8,4.8,4.8,4.8,4.8,4.7,4.7,4.7,4.8,4.8,4.8,4.8,4.9,4.4,4.8,4.2,4.8,4.7,4.5,4.8,4.8,4.8,4.3,4.8,4.8,4.3,4.3,4.6,4.8,4.6,4.6,4.6,4.5,4.8,4.7,4.7,4.4,4.7,4.8,4.9,4.9,4.9,4.9,4.9,4.9,4.9,4.9,4.9,4.9,4.9,4.8,4.8,4.5,4.8,4.8,4.8,4.8,4.8,4.8,4.7,4.5,4.3,4.8,4.5,4.7,4.8,4.8,4.8,4.5,4.8,4.8,4.8,4.8,4.8,4.9],\"xaxis\":\"x\",\"xbins\":{\"end\":4.9,\"size\":0.1,\"start\":3.3},\"yaxis\":\"y\",\"type\":\"histogram\"},{\"legendgroup\":\"Non_fiction\",\"marker\":{\"color\":\"steelblue\"},\"mode\":\"lines\",\"name\":\"Non_fiction\",\"showlegend\":false,\"x\":[4.0,4.0018,4.0036,4.0054,4.0072,4.009,4.0108,4.0126,4.0144,4.0162,4.018,4.0198,4.0216,4.0234,4.0252,4.027,4.0288,4.0306,4.0324,4.0342,4.036,4.0378,4.0396,4.0414,4.0432,4.045,4.0468,4.0486,4.0504,4.0522,4.054,4.0558,4.0576,4.0594,4.0612,4.063,4.0648,4.0666,4.0684000000000005,4.0702,4.072,4.0738,4.0756,4.0774,4.0792,4.081,4.0828,4.0846,4.0864,4.0882,4.09,4.0918,4.0936,4.0954,4.0972,4.099,4.1008000000000004,4.1026,4.1044,4.1062,4.108,4.1098,4.1116,4.1134,4.1152,4.117,4.1188,4.1206000000000005,4.1224,4.1242,4.126,4.1278,4.1296,4.1314,4.1332,4.135,4.1368,4.1386,4.1404,4.1422,4.144,4.1458,4.1476,4.1494,4.1512,4.1530000000000005,4.1548,4.1566,4.1584,4.1602,4.162,4.1638,4.1656,4.1674,4.1692,4.171,4.1728000000000005,4.1746,4.1764,4.1782,4.18,4.1818,4.1836,4.1854000000000005,4.1872,4.189,4.1908,4.1926,4.1944,4.1962,4.198,4.1998,4.2016,4.2034,4.2052000000000005,4.207,4.2088,4.2106,4.2124,4.2142,4.216,4.2178,4.2196,4.2214,4.2232,4.225,4.2268,4.2286,4.2304,4.2322,4.234,4.2358,4.2376000000000005,4.2394,4.2412,4.243,4.2448,4.2466,4.2484,4.2502,4.252,4.2538,4.2556,4.2574000000000005,4.2592,4.261,4.2628,4.2646,4.2664,4.2682,4.2700000000000005,4.2718,4.2736,4.2754,4.277200000000001,4.279,4.2808,4.2826,4.2844,4.2862,4.288,4.2898000000000005,4.2916,4.2934,4.2952,4.297,4.2988,4.3006,4.3024000000000004,4.3042,4.306,4.3078,4.3096000000000005,4.3114,4.3132,4.315,4.3168,4.3186,4.3204,4.3222000000000005,4.324,4.3258,4.3276,4.3294,4.3312,4.333,4.3348,4.3366,4.3384,4.3402,4.3420000000000005,4.3438,4.3456,4.3474,4.3492,4.351,4.3528,4.3546000000000005,4.3564,4.3582,4.36,4.361800000000001,4.3636,4.3654,4.3672,4.369,4.3708,4.3726,4.3744000000000005,4.3762,4.378,4.3798,4.381600000000001,4.3834,4.3852,4.3870000000000005,4.3888,4.3906,4.3924,4.3942000000000005,4.396,4.3978,4.3996,4.4014,4.4032,4.405,4.4068000000000005,4.4086,4.4104,4.4122,4.414,4.4158,4.4176,4.4194,4.4212,4.423,4.4248,4.4266000000000005,4.4284,4.4302,4.432,4.4338,4.4356,4.4374,4.4392000000000005,4.441,4.4428,4.4446,4.446400000000001,4.4482,4.45,4.4518,4.4536,4.4554,4.4572,4.4590000000000005,4.4608,4.4626,4.4644,4.466200000000001,4.468,4.4698,4.4716000000000005,4.4734,4.4752,4.477,4.478800000000001,4.4806,4.4824,4.4842,4.486,4.4878,4.4896,4.4914000000000005,4.4932,4.495,4.4968,4.498600000000001,4.5004,4.5022,4.5040000000000004,4.5058,4.5076,4.5094,4.5112000000000005,4.513,4.5148,4.5166,4.5184,4.5202,4.522,4.5238000000000005,4.525600000000001,4.5274,4.5292,4.531000000000001,4.5328,4.5346,4.5364,4.5382,4.54,4.5418,4.5436000000000005,4.5454,4.5472,4.549,4.550800000000001,4.5526,4.5544,4.5562000000000005,4.558,4.5598,4.5616,4.563400000000001,4.5652,4.567,4.5688,4.570600000000001,4.5724,4.5742,4.5760000000000005,4.5778,4.5796,4.5814,4.583200000000001,4.585,4.5868,4.5886000000000005,4.590400000000001,4.5922,4.594,4.5958000000000006,4.5976,4.5994,4.6012,4.603,4.6048,4.6066,4.6084000000000005,4.610200000000001,4.612,4.6138,4.615600000000001,4.6174,4.6192,4.621,4.6228,4.6246,4.6264,4.6282000000000005,4.63,4.6318,4.6336,4.635400000000001,4.6372,4.639,4.6408000000000005,4.6426,4.6444,4.6462,4.648000000000001,4.6498,4.6516,4.6534,4.655200000000001,4.657,4.6588,4.6606000000000005,4.6624,4.6642,4.666,4.667800000000001,4.6696,4.6714,4.6732000000000005,4.675000000000001,4.6768,4.6786,4.680400000000001,4.6822,4.684,4.6858,4.6876,4.6894,4.6912,4.6930000000000005,4.694800000000001,4.6966,4.6984,4.700200000000001,4.702,4.7038,4.7056000000000004,4.707400000000001,4.7092,4.711,4.7128000000000005,4.7146,4.7164,4.7182,4.720000000000001,4.7218,4.7236,4.7254000000000005,4.7272,4.729,4.7308,4.732600000000001,4.7344,4.7362,4.738,4.739800000000001,4.7416,4.7434,4.7452000000000005,4.747,4.7488,4.7506,4.752400000000001,4.7542,4.756,4.7578000000000005,4.759600000000001,4.7614,4.7632,4.765000000000001,4.7668,4.7686,4.7704,4.7722,4.774,4.7758,4.7776000000000005,4.779400000000001,4.7812,4.783,4.784800000000001,4.7866,4.7884,4.7902000000000005,4.792000000000001,4.7938,4.7956,4.7974000000000006,4.7992,4.801,4.8028,4.804600000000001,4.8064,4.8082,4.8100000000000005,4.8118,4.8136,4.8154,4.817200000000001,4.819000000000001,4.8208,4.8226,4.824400000000001,4.8262,4.828,4.8298000000000005,4.8316,4.8334,4.8352,4.837000000000001,4.8388,4.8406,4.8424000000000005,4.844200000000001,4.846,4.8478,4.849600000000001,4.8514,4.8532,4.855,4.856800000000001,4.8586,4.8604,4.8622000000000005,4.864000000000001,4.8658,4.8676,4.869400000000001,4.8712,4.873,4.8748000000000005,4.876600000000001,4.8784,4.8802,4.882000000000001,4.8838,4.8856,4.8874,4.889200000000001,4.891,4.8928,4.8946000000000005,4.8964,4.8982],\"xaxis\":\"x\",\"y\":[0.20363659711919055,0.2041380824155831,0.20448865623311435,0.2046891577843853,0.2047408512023569,0.2046454196032208,0.20440495731011382,0.20402196029345504,0.20349931489491885,0.20284028491267625,0.2020484971355163,0.20112792542264976,0.2000828734343796,0.19891795612628085,0.19763808012607445,0.196248423117881,0.19475441236302643,0.19316170249000048,0.1914761526884854,0.18970380344366253,0.1878508529471452,0.18592363332003403,0.1839285867816657,0.18187224189472054,0.1797611900134869,0.17760206205734422,0.17540150572594337,0.1731661632662067,0.1709026498942813,0.16861753296792995,0.16631731199675168,0.16400839956903798,0.16169710326522674,0.15938960861880508,0.157091963176251,0.15481006169833436,0.15254963253584924,0.15031622520374974,0.14811519916875243,0.14595171385691338,0.14383071987943652,0.14175695146722822,0.13973492009739527,0.13776890928816934,0.13586297053262128,0.13402092033597807,0.13224633831652566,0.13054256632588523,0.12891270854095033,0.12735963247690543,0.12588597086861913,0.12449412436616934,0.12318626498934826,0.12196434028571537,0.12083007813698643,0.11978499215930728,0.11883038764415356,0.11796736798819181,0.11719684156238415,0.11651952897281657,0.11593597066816924,0.115446534851318,0.11505142565523749,0.11475069154605101,0.11454423391876206,0.11443181585375783,0.11441307100462508,0.11448751259007514,0.11465454246478189,0.11491346024573275,0.1152634724721245,0.11570370177803656,0.11623319605791826,0.1168509376054454,0.11755585220645952,0.11834681816655607,0.11922267525342556,0.12018223353329333,0.12122428207983449,0.12234759753268534,0.12355095248131913,0.12483312364851126,0.12619289984604404,0.12762908967367959,0.12914052893085184,0.13072608770907518,0.13238467713171936,0.1341152557067281,0.13591683525701265,0.13778848639278082,0.13972934348994984,0.14173860913909705,0.14381555803025334,0.14595954024010035,0.14816998389003955,0.15044639714596575,0.15278836953362554,0.15519557254695943,0.15766775953100276,0.16020476482558949,0.1628065021613691,0.1654729623053452,0.16820420995931842,0.1710003799212322,0.17386167252627527,0.1767883483918224,0.1797807224975872,0.18283915763988687,0.18596405730631163,0.1891558580244896,0.1924150212458019,0.1957420248317845,0.19913735421742682,0.20260149333154115,0.2061349153597737,0.20973807344047546,0.21341139138754944,0.21715525453732995,0.22097000081867496,0.2248559121463606,0.22881320623782903,0.23284202895211475,0.23694244724737124,0.24111444284982167,0.2453579067221633,0.24967263441351334,0.25405832236579423,0.25851456524316874,0.26304085434184754,0.2676365771271728,0.27230101793370254,0.2770333598517923,0.2818326878116484,0.28669799286222963,0.29162817762880033,0.29662206291878324,0.30167839543151,0.3067958565132852,0.3119730718853221,0.31720862225867824,0.32250105473736923,0.32784889489871366,0.33325065942872395,0.33870486918025294,0.3442100625126861,0.3497648087645009,0.35536772170403164,0.3610174727995045,0.3667128041468409,0.3724525408929745,0.3782356029937002,0.38406101614817845,0.3899279217573398,0.39583558576051764,0.4017834062137353,0.4077709194839254,0.4137978049461694,0.4198638880854596,0.4259691419206045,0.43211368668535616,0.43829778772059996,0.4445218515513663,0.45078642014312015,0.4570921633531528,0.46343986961470457,0.46983043491345666,0.4762648501377803,0.4827441869056324,0.4892695819919265,0.49584222049998194,0.5024633179395666,0.509134101391246,0.5158557899525632,0.5226295746751934,0.529456598213976,0.536337934417923,0.5432745681003078,0.5502673752290145,0.5573171037798512,0.5644243554942118,0.5715895687781896,0.578813002973137,0.586094724217615,0.5934345931079278,0.6008322543487397,0.6082871285671528,0.6157984064429571,0.6233650452848205,0.6309857681572738,0.6386590656365496,0.6463832002451578,0.6541562135855954,0.6619759361633197,0.6698399998582389,0.677745852973084,0.6856907777562112,0.6936719102660979,0.7016862624158041,0.7097307460075043,0.7178021985412566,0.7258974105577282,0.7340131542531325,0.7421462130852237,0.7502934120732958,0.7584516484819868,0.7666179225693653,0.7747893680737825,0.7829632821117435,0.7911371541608522,0.7993086938073484,0.8074758569471131,0.815636870142334,0.8237902528529802,0.8319348372826778,0.8400697856026673,0.8481946043443166,0.8563091557810092,0.8644136661522519,0.8725087306178223,0.8805953148660491,0.8886747533382162,0.8967487440696834,0.9048193401875361,0.9128889381437496,0.9209602628013176,0.929036349528478,0.9371205234922451,0.9452163763765389,0.9533277407819023,0.9614586625925788,0.9696133716223677,0.9777962508724457,0.9860118047523733,0.9942646266291882,1.0025593660786085,1.0109006962170093,1.0192932814923779,1.0277417463075564,1.0362506448388507,1.0448244323984432,1.0534674386694325,1.062183843118374,1.0709776528619952,1.0798526832323743,1.0888125412492073,1.0978606121687993,1.1070000492374823,1.116233766733523,1.1255644363356618,1.13499448680994,1.1445261069589745,1.1541612517309183,1.1639016513387013,1.1737488231953195,1.1837040864274693,1.193768578689656,1.2039432749631702,1.2142290079909162,1.224626489969221,1.2351363350933933,1.245759082533613,1.2564952194039143,1.2673452032780035,1.278309483803641,1.2893885229704494,1.3005828135959436,1.3118928956105471,1.3233193697444083,1.33486290824669,1.3465242623019413,1.358304265846955,1.3702038355358412,1.3822239666493619,1.394365724797221,1.406630233317873,1.419018656339174,1.4315321775233678,1.4441719745825152,1.4569391897124135,1.4698348961552739,1.4828600611625837,1.4960155056887765,1.5093018612027613,1.522719524057199,1.53626860790473,1.5499488946934605,1.5637597848130749,1.5777002469943806,1.5917687685909128,1.605963306888924,1.620281242103024,1.6347193327170566,1.6492736738247107,1.6639396591102598,1.6787119470886456,1.6935844321935567,1.7085502212645642,1.723601615939237,1.7387301014026642,1.7539263418883735,1.7691801832583494,1.784480662919135,1.7998160272553636,1.8151737566821793,1.830540598335519,1.845902606334392,1.8612451894636226,1.8765531660389803,1.8918108256325759,1.9070019972519328,1.9221101234872304,1.9371183400640766,1.952009560168211,1.9667665628431001,1.9813720847024503,1.995808914148308,2.0100599872426668,2.024108484345922,2.03793792661085,2.0515322714058546,2.06487600573588,2.0779542367355757,2.0907527783241853,2.1032582331387393,2.1154580688977265,2.1273406883944657,2.138895492374446,2.1501129346162906,2.160984568608876,2.171503085297597,2.181662341460772,2.1914573783697056,2.2008844304847455,2.2099409240407986,2.2186254654806303,2.2269378197999075,2.234878878973929,2.2424506207412986,2.249656058122489,2.256499180150877,2.262984884388818,2.2691189018906286,2.274907715356909,2.280358471299616,2.2854788871036975,2.290277153927607,2.2947618364321447,2.298941770363042,2.3028259590373015,2.306423469797001,2.3097433314956217,2.312794434071925,2.3155854312443656,2.3181246473258894,2.320419989113915,2.3224788637554283,2.3243081034214366,2.3259138975504436,2.3273017333370913,2.3284763450512598,2.329441672675399,2.3302008302447965,2.330756084168297,2.33110884169632,2.3312596495910625,2.331208202940905,2.3309533639490208,2.330493190416186,2.329824973531276,2.328945284480675,2.327850029291346,2.326534511232908,2.324993500021942,2.3232213069990717,2.3212118653854255,2.318958814672552,2.316455588156818,2.3136955025992547,2.3106718489718236,2.307377983244311,2.303807416170333,2.2999539010474597,2.2958115184547676,2.2913747570100296,2.2866385892393475,2.281598541712075,2.2762507586635463,2.2705920584066996,2.264619981919323,2.2583328330865156,2.251729710175902,2.2448105282257456,2.2375760321317197,2.2300278003256864,2.222168239048295,2.214000567324723,2.2055287928590634,2.196757679165556,2.1876927043537977,2.1783400120785066,2.1687063552513672,2.158799033192599,2.1486258229711255,2.138194905745511,2.127514788970225,2.1165942253753527,2.1054421296599743,2.094067493860796,2.082479302368495,2.070686447563133,2.0586976470288505,2.046521363285342,2.034165726940934,2.021638464129451,2.0089468290405934,1.996097542292924,1.9830967358293765,1.9699499049396567,1.9566618679312382,1.94323673388359,1.9296778788286686,1.9159879306059966,1.9021687625442285,1.888221496023202,1.874146511873616,1.8599434704753186,1.8456113403213859,1.8311484347252744,1.8165524562622957,1.8018205484560719,1.786949354146291,1.7719350799062072,1.7567735658186923,1.741460359867115,1.7259907961545125,1.710360076129492,1.6945633519727006,1.6785958112811077,1.6624527621815328,1.6461297180072547,1.6296224806838573,1.6129272219911932,1.5960405618981834,1.578959643204395,1.5616822017677017,1.5442066316494807,1.526532044567056,1.508658323106927,1.4905861672212688,1.4723171336022838,1.4538536676051705,1.435199127467784,1.4163578006545,1.3973349122314205,1.3781366252590384,1.3587700332665826,1.3392431449481028,1.3195648612933109,1.2997449454358123,1.2797939855666278,1.259723351321222,1.2395451441037277,1.219272141861014,1.1989177388624923,1.1784958810784043,1.1580209977786857,1.1375079299980408,1.1169718565283677,1.0964282181090934,1.0758926404878273,1.0553808570193977,1.0349086314600002,1.0144916815962646,0.994145604325452,0.9738858027746015,0.9537274160128466,0.9336852518728058,0.9137737233548093,0.894006789042203,0.8743978979075216,0.8549599388383754,0.8357051951596485,0.8166453043750826,0.7977912232972058,0.7791531986806466,0.7607407434205403,0.742562618325721,0.7246268194255118,0.7069405707209523,0.6895103222450683,0.6723417532541511,0.6554397803320599,0.6388085701535792,0.6224515566205646,0.6063714620560284,0.590570322117313,0.5750495140692498,0.5598097880426973,0.5448513008919604,0.5301736522575903],\"yaxis\":\"y\",\"type\":\"scatter\"},{\"legendgroup\":\"Fiction\",\"marker\":{\"color\":\"gold\"},\"mode\":\"lines\",\"name\":\"Fiction\",\"showlegend\":false,\"x\":[3.3,3.3032,3.3064,3.3095999999999997,3.3127999999999997,3.316,3.3192,3.3224,3.3255999999999997,3.3287999999999998,3.332,3.3352,3.3384,3.3415999999999997,3.3447999999999998,3.348,3.3512,3.3544,3.3575999999999997,3.3608,3.364,3.3672,3.3704,3.3735999999999997,3.3768,3.38,3.3832,3.3864,3.3895999999999997,3.3928,3.396,3.3992,3.4023999999999996,3.4055999999999997,3.4088,3.412,3.4152,3.4183999999999997,3.4215999999999998,3.4248,3.428,3.4312,3.4343999999999997,3.4375999999999998,3.4408,3.444,3.4472,3.4503999999999997,3.4536,3.4568,3.46,3.4632,3.4663999999999997,3.4696,3.4728,3.476,3.4792,3.4823999999999997,3.4856,3.4888,3.492,3.4952,3.4983999999999997,3.5016,3.5048,3.508,3.5112,3.5143999999999997,3.5176,3.5208,3.524,3.5271999999999997,3.5303999999999998,3.5336,3.5368,3.54,3.5431999999999997,3.5463999999999998,3.5496,3.5528,3.556,3.5591999999999997,3.5624,3.5656,3.5688,3.572,3.5751999999999997,3.5784,3.5816,3.5848,3.588,3.5911999999999997,3.5944,3.5976,3.6008,3.604,3.6071999999999997,3.6104,3.6136,3.6168,3.62,3.6231999999999998,3.6264,3.6296,3.6328,3.636,3.6391999999999998,3.6424,3.6456,3.6488,3.652,3.6552,3.6584,3.6616,3.6648,3.668,3.6712,3.6744,3.6776,3.6808,3.684,3.6872,3.6904,3.6936,3.6968,3.7,3.7032,3.7064,3.7096,3.7128,3.7159999999999997,3.7192,3.7224,3.7256,3.7288,3.732,3.7352,3.7384,3.7416,3.7448,3.748,3.7512,3.7544,3.7576,3.7608,3.7640000000000002,3.7672,3.7704,3.7736,3.7768,3.78,3.7832,3.7864,3.7896,3.7928,3.796,3.7992,3.8024,3.8056,3.8087999999999997,3.8120000000000003,3.8152,3.8184,3.8216,3.8247999999999998,3.8280000000000003,3.8312,3.8344,3.8376,3.8407999999999998,3.8440000000000003,3.8472,3.8504,3.8536,3.8568,3.8600000000000003,3.8632,3.8664,3.8696,3.8728,3.876,3.8792,3.8824,3.8856,3.8888,3.892,3.8952,3.8984,3.9016,3.9048,3.908,3.9112,3.9144,3.9176,3.9208,3.924,3.9272,3.9304,3.9336,3.9368,3.94,3.9432,3.9464,3.9496,3.9528,3.956,3.9592,3.9624,3.9656000000000002,3.9688,3.972,3.9752,3.9784,3.9816000000000003,3.9848,3.988,3.9912,3.9944,3.9976000000000003,4.0008,4.004,4.0072,4.0104,4.0136,4.0168,4.02,4.0232,4.0264,4.0296,4.0328,4.036,4.0392,4.0424,4.0456,4.0488,4.052,4.0552,4.0584,4.0616,4.0648,4.068,4.0712,4.0744,4.0776,4.0808,4.084,4.0872,4.0904,4.0936,4.0968,4.1,4.1032,4.1064,4.1096,4.1128,4.116,4.1192,4.1224,4.1256,4.1288,4.132,4.1352,4.1384,4.1416,4.1448,4.148,4.1512,4.1544,4.1576,4.1608,4.164,4.1672,4.1704,4.1736,4.1768,4.18,4.1832,4.1864,4.1896,4.1928,4.196,4.1992,4.2024,4.2056000000000004,4.2088,4.212,4.2152,4.2184,4.2216000000000005,4.2248,4.228,4.2312,4.2344,4.2376000000000005,4.2408,4.244,4.2472,4.2504,4.2536000000000005,4.2568,4.26,4.2632,4.2664,4.2696000000000005,4.2728,4.276,4.2792,4.2824,4.2856000000000005,4.2888,4.292,4.2952,4.2984,4.3016000000000005,4.3048,4.308,4.3112,4.3144,4.3176000000000005,4.3208,4.324,4.3272,4.3304,4.333600000000001,4.3368,4.34,4.3432,4.3464,4.349600000000001,4.3528,4.356,4.3592,4.3624,4.365600000000001,4.3688,4.372,4.3752,4.3784,4.381600000000001,4.3848,4.388,4.3911999999999995,4.3944,4.397600000000001,4.4008,4.404,4.4072,4.4104,4.413600000000001,4.4168,4.42,4.4232,4.4264,4.429600000000001,4.4328,4.436,4.4392,4.4424,4.445600000000001,4.4488,4.452,4.4552,4.4584,4.461600000000001,4.4648,4.468,4.4712000000000005,4.4744,4.477600000000001,4.4808,4.484,4.4872000000000005,4.4904,4.493600000000001,4.4968,4.5,4.5032000000000005,4.5064,4.509600000000001,4.5128,4.516,4.5192000000000005,4.5224,4.525600000000001,4.5288,4.532,4.535200000000001,4.5384,4.5416,4.5448,4.548,4.551200000000001,4.5544,4.5576,4.5608,4.564,4.567200000000001,4.5704,4.5736,4.5768,4.58,4.583200000000001,4.5864,4.5896,4.5928,4.596,4.599200000000001,4.6024,4.6056,4.6088000000000005,4.612,4.615200000000001,4.6184,4.6216,4.6248000000000005,4.628,4.631200000000001,4.6344,4.6376,4.6408000000000005,4.644,4.6472,4.6504,4.6536,4.6568000000000005,4.66,4.6632,4.6664,4.6696,4.6728000000000005,4.676,4.6792,4.6824,4.6856,4.6888000000000005,4.692,4.6952,4.6984,4.7016,4.7048000000000005,4.708,4.7112,4.7144,4.7176,4.7208000000000006,4.724,4.7272,4.7304,4.7336,4.736800000000001,4.74,4.7432,4.7464,4.749600000000001,4.752800000000001,4.756,4.7592,4.7624,4.765600000000001,4.768800000000001,4.772,4.7752,4.7784,4.781600000000001,4.784800000000001,4.788,4.7912,4.7944,4.7976,4.800800000000001,4.804,4.8072,4.8104000000000005,4.8136,4.816800000000001,4.82,4.8232,4.8264000000000005,4.8296,4.832800000000001,4.836,4.8392,4.8424000000000005,4.8456,4.848800000000001,4.852,4.8552,4.8584000000000005,4.8616,4.864800000000001,4.868,4.8712,4.8744000000000005,4.8776,4.880800000000001,4.884,4.8872,4.8904000000000005,4.8936,4.896800000000001],\"xaxis\":\"x\",\"y\":[0.01882337133776123,0.01881899288154779,0.01879110730663535,0.018739950629405627,0.01866586093300422,0.018569277229222032,0.018450737718014785,0.018310877460261117,0.018150425484128166,0.017970201349894056,0.017771111202221936,0.017554143342640723,0.017320363358330444,0.017070908846197178,0.01680698377363248,0.01652985251926643,0.016240833638429004,0.015941293398933798,0.015632639133191312,0.015316312452560732,0.01499378236928057,0.014666538370300339,0.014336083485908062,0.014003927394242265,0.013671579600638892,0.013340542728340876,0.013012305954435302,0.012688338622040376,0.012370084056787526,0.012058953612591024,0.011756320968620344,0.01146351669633964,0.011181823112505908,0.010912469431163297,0.010656627224984236,0.010415406203818764,0.010189850316057536,0.009980934176415171,0.009789559822018797,0.009616553797255388,0.009462664566694335,0.009328560254562303,0.009214826708694585,0.009121965886609124,0.009050394561327049,0.009000443344769044,0.00897235602696296,0.00896628922986684,0.008982312375305813,0.009020407967298952,0.009080472189869022,0.009162315822239316,0.009265665474081348,0.009390165144140938,0.009535378106092923,0.00970078912581818,0.009885807014418994,0.010089767521159546,0.010311936570106529,0.010551513843526006,0.010807636714052245,0.011079384526265931,0.01136578322660295,0.011665810338461037,0.01197840027698943,0.012302449995355473,0.012636824951301242,0.012980365379570834,0.013331892852333015,0.013690217106096015,0.014054143109854646,0.014422478345380104,0.014794040266717195,0.0151676639021496,0.015542209558200334,0.015916570581705893,0.016289681132710843,0.01666052391793426,0.017028137831918953,0.017391625450754376,0.0177501603215086,0.0181029939892732,0.01844946270305408,0.018788993741670073,0.019121111301383914,0.019445441888199983,0.019761719159643712,0.020069788163386455,0.02036960892329498,0.020661259327356827,0.020944937276431274,0.021220962057877234,0.021489774913768127,0.021751938779571958,0.022008137175799476,0.022259172242131503,0.02250596191086922,0.022749536224120397,0.022991032806868875,0.023231691515881215,0.023472848292200126,0.023715928252669837,0.023962438063440006,0.024213957645616336,0.02447213127008216,0.024738658104914175,0.025015282284686927,0.02530378257622055,0.02560596171991227,0.02592363552963989,0.026258621837281188,0.026612729370113358,0.02698774665070703,0.02738543100937966,0.02780749779881839,0.02825560989910574,0.028731367599102234,0.02923629893696726,0.029771850578563228,0.030339379307633814,0.03094014419601092,0.031575299515757736,0.03224588844815775,0.0329528376368847,0.033696952624627824,0.034478914203974365,0.03529927570457587,0.03615846122963016,0.0370567648456042,0.03799435072000524,0.03897125419297401,0.03998738375963016,0.0410425239315408,0.0421363389375052,0.043268377216126766,0.04443807664549461,0.045644770448742544,0.046887693708419734,0.04816599041751005,0.049478720990642745,0.05082487015559225,0.05220335514257382,0.0536130340871595,0.05505271456182709,0.056521162151261885,0.05801710898749717,0.05953926216280807,0.061086311940931184,0.06265693969060475,0.06424982546959877,0.06586365519222961,0.06749712731880708,0.06914895901143822,0.0708178917070758,0.07250269606553204,0.07420217625733579,0.07591517356369726,0.07764056926837651,0.07937728682886856,0.08112429332191419,0.08288060016587773,0.0846452631298977,0.0864173816468939,0.08819609745436395,0.08998059259347199,0.09177008680306509,0.09356383435097791,0.09536112035022672,0.09716125661241487,0.09896357709487505,0.10076743300168008,0.10257218760170395,0.104377210829352,0.10618187373541667,0.10798554285673502,0.10978757457394663,0.11158730952663798,0.11338406715459001,0.11517714043263587,0.11696579086489917,0.11874924380185421,0.12052668414080078,0.12229725246698837,0.12406004168877027,0.12581409421585849,0.12755839972503646,0.12929189355255996,0.1310134557470295,0.13272191081074985,0.13441602815157958,0.1360945232610441,0.13775605962811158,0.1393992513915498,0.14102266672726818,0.14262483196053713,0.1442042363865734,0.145759337776686,0.1472885685411141,0.14879034251389067,0.15026306231957162,0.15170512727661095,0.1531149417874927,0.15449092416160345,0.1558315158132078,0.15713519077387084,0.1584004654562529,0.15962590860441742,0.1608101513646829,0.16195189741056698,0.1630499330555618,0.1641031372883157,0.16511049166621974,0.1660710900054421,0.16698414780800772,0.16784901136955407,0.16866516651488606,0.1694322469122482,0.1701500419213511,0.17081850393448078,0.17143775517442272,0.17200809391739805,0.17253000011357478,0.1730041403820002,0.1734313723608218,0.17381274839743385,0.1741495185665966,0.1744431330075795,0.17469524357392224,0.17490770479150114,0.17508257412213313,0.1752221115310288,0.17532877835694602,0.17540523548398645,0.1754543408136026,0.1754791460346304,0.1754828926880639,0.17546900752195546,0.17544109713030248,0.17540294186819827,0.17535848903396062,0.17531184530753466,0.17526726843327,0.17522915813435244,0.1752020462458073,0.17519058605319668,0.17519954082496056,0.1752337715280232,0.17529822371865666,0.1753979136039674,0.1755379132735884,0.17572333510639684,0.1759593153632277,0.1762509969837344,0.1766035116135603,0.17702196089695968,0.1775113970797289,0.17807680297772738,0.1787230713773282,0.17945498394559392,0.18027718973974208,0.181194183417438,0.18221028326124314,0.18332960914224858,0.18455606055909693,0.18589329489912093,0.18734470607808607,0.18891340372362103,0.19060219307484388,0.19241355577661662,0.19434963175118583,0.19641220233245624,0.19860267484874083,0.2009220688383011,0.20337100407833142,0.20594969060209273,0.2086579208706891,0.21149506425544243,0.21446006397396106,0.21755143660795023,0.2207672743135494,0.2241052498156815,0.22756262425674295,0.23113625794703885,0.23482262403999635,0.2386178251295001,0.24251761274012343,0.24651740965356328,0.25061233498699037,0.2547972319111111,0.2590666978682515,0.2634151171238092,0.26783669545845945,0.2723254967837435,0.27687548144064145,0.2814805459194582,0.28613456372052887,0.2908314270586619,0.2955650891006136,0.300329606414107,0.30511918129919025,0.30992820366852325,0.3147512921419759,0.31958333402353434,0.3244195238342265,0.32925540008409615,0.3340868799788281,0.33891029177236204,0.3437224044956749,0.3485204548135497,0.35330217078535003,0.35806579233240327,0.36281008824311006,0.36753436957716207,0.3722384993618047,0.3769228985056124,0.38158854788835084,0.3862369866188257,0.390870306485778,0.3954911426594863,0.4001026607333809,0.4047085402254723,0.4093129546881897,0.41392054860220096,0.4185364112546194,0.4231660478243219,0.42781534791704395,0.4324905518098226,0.4371982146785614,0.441945169093699,0.4467384860769457,0.45158543501733467,0.45649344274671483,0.46147005207411157,0.46652288007462095,0.47165957642212114,0.47688778204624843,0.4822150883828121,0.4876489974735538,0.4931968831560665,0.4988659535678267,0.5046632151704952,0.5105954384813645,0.5166691256793101,0.5228904802322271,0.5292653786728146,0.5357993446291969,0.5424975251972987,0.5493646697226436,0.5564051110411516,0.563622749211418,0.5710210377550711,0.5786029724075933,0.5863710823691393,0.5943274240337492,0.6024735771660729,0.6108106434869005,0.6193392476229699,0.6280595403721443,0.6369712042323459,0.6460734611413279,0.6553650823743322,0.6648444005477095,0.6745093236785092,0.6843573512525525,0.6943855922563467,0.7045907851312009,0.7149693196105446,0.7255172604035933,0.7362303726901298,0.7471041493911149,0.75813384017909,0.7693144821893845,0.7806409323887554,0.79210790155156,0.8037099897845859,0.8154417235308995,0.8272975939695305,0.8392720967120072,0.8513597726788542,0.8635552500187169,0.8758532869105209,0.8882488150649287,0.9007369837154962,0.9133132038632511,0.9259731925103021,0.938713016590231,0.9515291362746131,0.9644184473076647,0.9773783219944656,0.9904066484435196,1.0035018676417202,1.0166630079203747,1.0298897163540908,1.0431822866225102,1.0565416828562586,1.0699695589858034,1.0834682731141587,1.0970408964421046,1.110691216289177,1.1244237327736484,1.1382436487420715,1.152156852572237,1.166169893513769,1.1802899492772678,1.194524785636063,1.2088827078639175,1.2233725038971643,1.2380033791800598,1.252784883227549,1.2677268280190666,1.282839198419957,1.2981320549130773,1.313615429010718,1.3292992118059639,1.3451930362115154,1.3613061535220023,1.3776473050223044,1.3942245894474867,1.411045327179564,1.428115922140526,1.4454417224097231,1.4630268806547388,1.4808742155185552,1.4989850751498746,1.5173592040985138,1.535994614821255,1.5548874650567603,1.574031942328589,1.593420156823843,1.6130420438706274,1.6328852771999187,1.6529351941267787,1.6731747337223672,1.6935843889711202,1.7141421738186262,1.7348236059140976,1.7556017057389581,1.7764470126895961,1.797327618549703,1.8182092186466663,1.8390551808380062,1.8598266323204462,1.8804825640961909,1.900979952770667,1.9212738991957483,1.9413177833120987,1.961063434388588,1.9804613157046365,1.999460722576939,2.0180099924960806,2.0360567260129194,2.053548016901345,2.0704306900244016,2.086651545246289,2.1021576056645364,2.116896368385876,2.1308160560370966,2.143865867187955,2.1559962238690202,2.16715901439172,2.177307829721187,2.1863981917148827,2.1943877716192777,2.2012365973136125,2.2069072479014094,2.211365034376508,2.2145781652282297,2.2165178959990457,2.217158661964822,2.216478193271093,2.2144576120254857,2.211081511015817,2.2063380138911435,2.2002188168090457,2.1927192117125847,2.1838380915541795,2.1735779379283255,2.1619447917088097,2.1489482074081123,2.1346011920850576,2.1189201297203346,2.1019246920583035,2.083637736976172,2.06408519548826,2.04329594852384,2.0213016946325824,1.9981368097710246,1.9738382003103507,1.948445150377814,1.9219991646055714,1.8945438073111507,1.8661245390749126,1.836788551615029,1.8065846017883342,1.7755628454708803,1.7437746719949094,1.711272539740598,1.6781098134055135,1.6443406033998536,1.610019607746057],\"yaxis\":\"y\",\"type\":\"scatter\"}],                        {\"barmode\":\"overlay\",\"hovermode\":\"closest\",\"legend\":{\"traceorder\":\"reversed\"},\"xaxis\":{\"anchor\":\"y2\",\"domain\":[0.0,1.0],\"zeroline\":false},\"yaxis\":{\"anchor\":\"free\",\"domain\":[0.0,1],\"position\":0.0},\"template\":{\"data\":{\"barpolar\":[{\"marker\":{\"line\":{\"color\":\"white\",\"width\":0.5},\"pattern\":{\"fillmode\":\"overlay\",\"size\":10,\"solidity\":0.2}},\"type\":\"barpolar\"}],\"bar\":[{\"error_x\":{\"color\":\"rgb(36,36,36)\"},\"error_y\":{\"color\":\"rgb(36,36,36)\"},\"marker\":{\"line\":{\"color\":\"white\",\"width\":0.5},\"pattern\":{\"fillmode\":\"overlay\",\"size\":10,\"solidity\":0.2}},\"type\":\"bar\"}],\"carpet\":[{\"aaxis\":{\"endlinecolor\":\"rgb(36,36,36)\",\"gridcolor\":\"white\",\"linecolor\":\"white\",\"minorgridcolor\":\"white\",\"startlinecolor\":\"rgb(36,36,36)\"},\"baxis\":{\"endlinecolor\":\"rgb(36,36,36)\",\"gridcolor\":\"white\",\"linecolor\":\"white\",\"minorgridcolor\":\"white\",\"startlinecolor\":\"rgb(36,36,36)\"},\"type\":\"carpet\"}],\"choropleth\":[{\"colorbar\":{\"outlinewidth\":1,\"tickcolor\":\"rgb(36,36,36)\",\"ticks\":\"outside\"},\"type\":\"choropleth\"}],\"contourcarpet\":[{\"colorbar\":{\"outlinewidth\":1,\"tickcolor\":\"rgb(36,36,36)\",\"ticks\":\"outside\"},\"type\":\"contourcarpet\"}],\"contour\":[{\"colorbar\":{\"outlinewidth\":1,\"tickcolor\":\"rgb(36,36,36)\",\"ticks\":\"outside\"},\"colorscale\":[[0.0,\"#440154\"],[0.1111111111111111,\"#482878\"],[0.2222222222222222,\"#3e4989\"],[0.3333333333333333,\"#31688e\"],[0.4444444444444444,\"#26828e\"],[0.5555555555555556,\"#1f9e89\"],[0.6666666666666666,\"#35b779\"],[0.7777777777777778,\"#6ece58\"],[0.8888888888888888,\"#b5de2b\"],[1.0,\"#fde725\"]],\"type\":\"contour\"}],\"heatmapgl\":[{\"colorbar\":{\"outlinewidth\":1,\"tickcolor\":\"rgb(36,36,36)\",\"ticks\":\"outside\"},\"colorscale\":[[0.0,\"#440154\"],[0.1111111111111111,\"#482878\"],[0.2222222222222222,\"#3e4989\"],[0.3333333333333333,\"#31688e\"],[0.4444444444444444,\"#26828e\"],[0.5555555555555556,\"#1f9e89\"],[0.6666666666666666,\"#35b779\"],[0.7777777777777778,\"#6ece58\"],[0.8888888888888888,\"#b5de2b\"],[1.0,\"#fde725\"]],\"type\":\"heatmapgl\"}],\"heatmap\":[{\"colorbar\":{\"outlinewidth\":1,\"tickcolor\":\"rgb(36,36,36)\",\"ticks\":\"outside\"},\"colorscale\":[[0.0,\"#440154\"],[0.1111111111111111,\"#482878\"],[0.2222222222222222,\"#3e4989\"],[0.3333333333333333,\"#31688e\"],[0.4444444444444444,\"#26828e\"],[0.5555555555555556,\"#1f9e89\"],[0.6666666666666666,\"#35b779\"],[0.7777777777777778,\"#6ece58\"],[0.8888888888888888,\"#b5de2b\"],[1.0,\"#fde725\"]],\"type\":\"heatmap\"}],\"histogram2dcontour\":[{\"colorbar\":{\"outlinewidth\":1,\"tickcolor\":\"rgb(36,36,36)\",\"ticks\":\"outside\"},\"colorscale\":[[0.0,\"#440154\"],[0.1111111111111111,\"#482878\"],[0.2222222222222222,\"#3e4989\"],[0.3333333333333333,\"#31688e\"],[0.4444444444444444,\"#26828e\"],[0.5555555555555556,\"#1f9e89\"],[0.6666666666666666,\"#35b779\"],[0.7777777777777778,\"#6ece58\"],[0.8888888888888888,\"#b5de2b\"],[1.0,\"#fde725\"]],\"type\":\"histogram2dcontour\"}],\"histogram2d\":[{\"colorbar\":{\"outlinewidth\":1,\"tickcolor\":\"rgb(36,36,36)\",\"ticks\":\"outside\"},\"colorscale\":[[0.0,\"#440154\"],[0.1111111111111111,\"#482878\"],[0.2222222222222222,\"#3e4989\"],[0.3333333333333333,\"#31688e\"],[0.4444444444444444,\"#26828e\"],[0.5555555555555556,\"#1f9e89\"],[0.6666666666666666,\"#35b779\"],[0.7777777777777778,\"#6ece58\"],[0.8888888888888888,\"#b5de2b\"],[1.0,\"#fde725\"]],\"type\":\"histogram2d\"}],\"histogram\":[{\"marker\":{\"line\":{\"color\":\"white\",\"width\":0.6}},\"type\":\"histogram\"}],\"mesh3d\":[{\"colorbar\":{\"outlinewidth\":1,\"tickcolor\":\"rgb(36,36,36)\",\"ticks\":\"outside\"},\"type\":\"mesh3d\"}],\"parcoords\":[{\"line\":{\"colorbar\":{\"outlinewidth\":1,\"tickcolor\":\"rgb(36,36,36)\",\"ticks\":\"outside\"}},\"type\":\"parcoords\"}],\"pie\":[{\"automargin\":true,\"type\":\"pie\"}],\"scatter3d\":[{\"line\":{\"colorbar\":{\"outlinewidth\":1,\"tickcolor\":\"rgb(36,36,36)\",\"ticks\":\"outside\"}},\"marker\":{\"colorbar\":{\"outlinewidth\":1,\"tickcolor\":\"rgb(36,36,36)\",\"ticks\":\"outside\"}},\"type\":\"scatter3d\"}],\"scattercarpet\":[{\"marker\":{\"colorbar\":{\"outlinewidth\":1,\"tickcolor\":\"rgb(36,36,36)\",\"ticks\":\"outside\"}},\"type\":\"scattercarpet\"}],\"scattergeo\":[{\"marker\":{\"colorbar\":{\"outlinewidth\":1,\"tickcolor\":\"rgb(36,36,36)\",\"ticks\":\"outside\"}},\"type\":\"scattergeo\"}],\"scattergl\":[{\"marker\":{\"colorbar\":{\"outlinewidth\":1,\"tickcolor\":\"rgb(36,36,36)\",\"ticks\":\"outside\"}},\"type\":\"scattergl\"}],\"scattermapbox\":[{\"marker\":{\"colorbar\":{\"outlinewidth\":1,\"tickcolor\":\"rgb(36,36,36)\",\"ticks\":\"outside\"}},\"type\":\"scattermapbox\"}],\"scatterpolargl\":[{\"marker\":{\"colorbar\":{\"outlinewidth\":1,\"tickcolor\":\"rgb(36,36,36)\",\"ticks\":\"outside\"}},\"type\":\"scatterpolargl\"}],\"scatterpolar\":[{\"marker\":{\"colorbar\":{\"outlinewidth\":1,\"tickcolor\":\"rgb(36,36,36)\",\"ticks\":\"outside\"}},\"type\":\"scatterpolar\"}],\"scatter\":[{\"marker\":{\"colorbar\":{\"outlinewidth\":1,\"tickcolor\":\"rgb(36,36,36)\",\"ticks\":\"outside\"}},\"type\":\"scatter\"}],\"scatterternary\":[{\"marker\":{\"colorbar\":{\"outlinewidth\":1,\"tickcolor\":\"rgb(36,36,36)\",\"ticks\":\"outside\"}},\"type\":\"scatterternary\"}],\"surface\":[{\"colorbar\":{\"outlinewidth\":1,\"tickcolor\":\"rgb(36,36,36)\",\"ticks\":\"outside\"},\"colorscale\":[[0.0,\"#440154\"],[0.1111111111111111,\"#482878\"],[0.2222222222222222,\"#3e4989\"],[0.3333333333333333,\"#31688e\"],[0.4444444444444444,\"#26828e\"],[0.5555555555555556,\"#1f9e89\"],[0.6666666666666666,\"#35b779\"],[0.7777777777777778,\"#6ece58\"],[0.8888888888888888,\"#b5de2b\"],[1.0,\"#fde725\"]],\"type\":\"surface\"}],\"table\":[{\"cells\":{\"fill\":{\"color\":\"rgb(237,237,237)\"},\"line\":{\"color\":\"white\"}},\"header\":{\"fill\":{\"color\":\"rgb(217,217,217)\"},\"line\":{\"color\":\"white\"}},\"type\":\"table\"}]},\"layout\":{\"annotationdefaults\":{\"arrowhead\":0,\"arrowwidth\":1},\"autotypenumbers\":\"strict\",\"coloraxis\":{\"colorbar\":{\"outlinewidth\":1,\"tickcolor\":\"rgb(36,36,36)\",\"ticks\":\"outside\"}},\"colorscale\":{\"diverging\":[[0.0,\"rgb(103,0,31)\"],[0.1,\"rgb(178,24,43)\"],[0.2,\"rgb(214,96,77)\"],[0.3,\"rgb(244,165,130)\"],[0.4,\"rgb(253,219,199)\"],[0.5,\"rgb(247,247,247)\"],[0.6,\"rgb(209,229,240)\"],[0.7,\"rgb(146,197,222)\"],[0.8,\"rgb(67,147,195)\"],[0.9,\"rgb(33,102,172)\"],[1.0,\"rgb(5,48,97)\"]],\"sequential\":[[0.0,\"#440154\"],[0.1111111111111111,\"#482878\"],[0.2222222222222222,\"#3e4989\"],[0.3333333333333333,\"#31688e\"],[0.4444444444444444,\"#26828e\"],[0.5555555555555556,\"#1f9e89\"],[0.6666666666666666,\"#35b779\"],[0.7777777777777778,\"#6ece58\"],[0.8888888888888888,\"#b5de2b\"],[1.0,\"#fde725\"]],\"sequentialminus\":[[0.0,\"#440154\"],[0.1111111111111111,\"#482878\"],[0.2222222222222222,\"#3e4989\"],[0.3333333333333333,\"#31688e\"],[0.4444444444444444,\"#26828e\"],[0.5555555555555556,\"#1f9e89\"],[0.6666666666666666,\"#35b779\"],[0.7777777777777778,\"#6ece58\"],[0.8888888888888888,\"#b5de2b\"],[1.0,\"#fde725\"]]},\"colorway\":[\"#1F77B4\",\"#FF7F0E\",\"#2CA02C\",\"#D62728\",\"#9467BD\",\"#8C564B\",\"#E377C2\",\"#7F7F7F\",\"#BCBD22\",\"#17BECF\"],\"font\":{\"color\":\"rgb(36,36,36)\"},\"geo\":{\"bgcolor\":\"white\",\"lakecolor\":\"white\",\"landcolor\":\"white\",\"showlakes\":true,\"showland\":true,\"subunitcolor\":\"white\"},\"hoverlabel\":{\"align\":\"left\"},\"hovermode\":\"closest\",\"mapbox\":{\"style\":\"light\"},\"paper_bgcolor\":\"white\",\"plot_bgcolor\":\"white\",\"polar\":{\"angularaxis\":{\"gridcolor\":\"rgb(232,232,232)\",\"linecolor\":\"rgb(36,36,36)\",\"showgrid\":false,\"showline\":true,\"ticks\":\"outside\"},\"bgcolor\":\"white\",\"radialaxis\":{\"gridcolor\":\"rgb(232,232,232)\",\"linecolor\":\"rgb(36,36,36)\",\"showgrid\":false,\"showline\":true,\"ticks\":\"outside\"}},\"scene\":{\"xaxis\":{\"backgroundcolor\":\"white\",\"gridcolor\":\"rgb(232,232,232)\",\"gridwidth\":2,\"linecolor\":\"rgb(36,36,36)\",\"showbackground\":true,\"showgrid\":false,\"showline\":true,\"ticks\":\"outside\",\"zeroline\":false,\"zerolinecolor\":\"rgb(36,36,36)\"},\"yaxis\":{\"backgroundcolor\":\"white\",\"gridcolor\":\"rgb(232,232,232)\",\"gridwidth\":2,\"linecolor\":\"rgb(36,36,36)\",\"showbackground\":true,\"showgrid\":false,\"showline\":true,\"ticks\":\"outside\",\"zeroline\":false,\"zerolinecolor\":\"rgb(36,36,36)\"},\"zaxis\":{\"backgroundcolor\":\"white\",\"gridcolor\":\"rgb(232,232,232)\",\"gridwidth\":2,\"linecolor\":\"rgb(36,36,36)\",\"showbackground\":true,\"showgrid\":false,\"showline\":true,\"ticks\":\"outside\",\"zeroline\":false,\"zerolinecolor\":\"rgb(36,36,36)\"}},\"shapedefaults\":{\"fillcolor\":\"black\",\"line\":{\"width\":0},\"opacity\":0.3},\"ternary\":{\"aaxis\":{\"gridcolor\":\"rgb(232,232,232)\",\"linecolor\":\"rgb(36,36,36)\",\"showgrid\":false,\"showline\":true,\"ticks\":\"outside\"},\"baxis\":{\"gridcolor\":\"rgb(232,232,232)\",\"linecolor\":\"rgb(36,36,36)\",\"showgrid\":false,\"showline\":true,\"ticks\":\"outside\"},\"bgcolor\":\"white\",\"caxis\":{\"gridcolor\":\"rgb(232,232,232)\",\"linecolor\":\"rgb(36,36,36)\",\"showgrid\":false,\"showline\":true,\"ticks\":\"outside\"}},\"title\":{\"x\":0.05},\"xaxis\":{\"automargin\":true,\"gridcolor\":\"rgb(232,232,232)\",\"linecolor\":\"rgb(36,36,36)\",\"showgrid\":false,\"showline\":true,\"ticks\":\"outside\",\"title\":{\"standoff\":15},\"zeroline\":false,\"zerolinecolor\":\"rgb(36,36,36)\"},\"yaxis\":{\"automargin\":true,\"gridcolor\":\"rgb(232,232,232)\",\"linecolor\":\"rgb(36,36,36)\",\"showgrid\":false,\"showline\":true,\"ticks\":\"outside\",\"title\":{\"standoff\":15},\"zeroline\":false,\"zerolinecolor\":\"rgb(36,36,36)\"}}},\"font\":{\"family\":\"Arial\",\"size\":16,\"color\":\"black\"}},                        {\"responsive\": true}                    ).then(function(){\n",
       "                            \n",
       "var gd = document.getElementById('712fe2e3-9d80-4e6f-a572-d263a0832502');\n",
       "var x = new MutationObserver(function (mutations, observer) {{\n",
       "        var display = window.getComputedStyle(gd).display;\n",
       "        if (!display || display === 'none') {{\n",
       "            console.log([gd, 'removed!']);\n",
       "            Plotly.purge(gd);\n",
       "            observer.disconnect();\n",
       "        }}\n",
       "}});\n",
       "\n",
       "// Listen for the removal of the full notebook cells\n",
       "var notebookContainer = gd.closest('#notebook-container');\n",
       "if (notebookContainer) {{\n",
       "    x.observe(notebookContainer, {childList: true});\n",
       "}}\n",
       "\n",
       "// Listen for the clearing of the current output cell\n",
       "var outputEl = gd.closest('.output');\n",
       "if (outputEl) {{\n",
       "    x.observe(outputEl, {childList: true});\n",
       "}}\n",
       "\n",
       "                        })                };                });            </script>        </div>"
      ]
     },
     "metadata": {},
     "output_type": "display_data"
    }
   ],
   "source": [
    "distplot = ff.create_distplot([non_fiction, fiction], \n",
    "                         ['Non_fiction', 'Fiction'], \n",
    "                         colors=['steelblue', 'gold',],\n",
    "                         bin_size=.1, \n",
    "                         show_rug=False)\n",
    "\n",
    "distplot.update_layout(template='simple_white',\n",
    "                       font=dict(family='Arial', size=16, color='black'))\n",
    "\n",
    "distplot.show()"
   ]
  }
 ],
 "metadata": {
  "kernelspec": {
   "display_name": "Python 3",
   "language": "python",
   "name": "python3"
  },
  "language_info": {
   "codemirror_mode": {
    "name": "ipython",
    "version": 3
   },
   "file_extension": ".py",
   "mimetype": "text/x-python",
   "name": "python",
   "nbconvert_exporter": "python",
   "pygments_lexer": "ipython3",
   "version": "3.7.12"
  },
  "papermill": {
   "default_parameters": {},
   "duration": 17.349263,
   "end_time": "2022-01-24T19:54:51.047075",
   "environment_variables": {},
   "exception": null,
   "input_path": "__notebook__.ipynb",
   "output_path": "__notebook__.ipynb",
   "parameters": {},
   "start_time": "2022-01-24T19:54:33.697812",
   "version": "2.3.3"
  }
 },
 "nbformat": 4,
 "nbformat_minor": 5
}
